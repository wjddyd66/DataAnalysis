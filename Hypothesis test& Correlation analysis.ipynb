{
 "cells": [
  {
   "cell_type": "code",
   "execution_count": 1,
   "metadata": {},
   "outputs": [],
   "source": [
    "import scipy.stats as stats\n",
    "import numpy as np\n",
    "import pandas as pd"
   ]
  },
  {
   "cell_type": "code",
   "execution_count": 2,
   "metadata": {},
   "outputs": [
    {
     "name": "stdout",
     "output_type": "stream",
     "text": [
      "x:  [0 1 0 0 0 0 0 1 1 0 1 0 0 1 0 0 0 1 1 1 1 1 0 1 0 0 0 1 0 0 0 1 0 0 0 0 0\n",
      " 0 1 1 0 0 1 0 1 1 0 0 0 0 0 0 1 0 0 0 1 0 0 0 0 0 1 0 0 0 1 0 1 0 1 0 1 0\n",
      " 1 0 0 0 0 0 0 0 0 1 0 0 0 0 0 1 0 1 0 1 0 0 0 0 1 0]\n",
      "n:  31\n",
      "binom_test(양측검정):  0.00018314322488235352\n"
     ]
    }
   ],
   "source": [
    "#양측검정\n",
    "N = 100\n",
    "mu = 0.35\n",
    "np.random.seed(0)\n",
    "x = stats.bernoulli(mu).rvs(N)\n",
    "print(\"x: \", x)\n",
    "\n",
    "n = np.count_nonzero(x) # 0이아닌 건수\n",
    "print(\"n: \", n)\n",
    "print(\"binom_test(양측검정): \", stats.binom_test(n, N, p=0.5))\n",
    "#p-value = 0.000183 < 0.5 -> 대립 채택"
   ]
  },
  {
   "cell_type": "code",
   "execution_count": 3,
   "metadata": {},
   "outputs": [
    {
     "name": "stdout",
     "output_type": "stream",
     "text": [
      "------------------------------------------------------------\n",
      "양측 검정: 방향성이 없다. 80% 만족률 검증 실시\n",
      "\n",
      "data:     no    gender  survey time\n",
      "0   1         2       1  5.1\n",
      "1   2         2       0  5.2\n",
      "2   3         2       1  4.7\n",
      "\n",
      "data.describe():                 no      gender      survey\n",
      "count  150.000000  150.000000  150.000000\n",
      "mean    75.500000    1.526667    0.906667\n",
      "std     43.445368    0.500961    0.291874\n",
      "min      1.000000    1.000000    0.000000\n",
      "25%     38.250000    1.000000    1.000000\n",
      "50%     75.500000    2.000000    1.000000\n",
      "75%    112.750000    2.000000    1.000000\n",
      "max    150.000000    2.000000    1.000000\n",
      "\n",
      " ctab:  col_0  count\n",
      "불만족       14\n",
      "만족       136\n",
      "\n",
      " result: 0.0006734701362867019\n",
      "result2: 0.000673470136286707\n"
     ]
    }
   ],
   "source": [
    "#양측 검정 : 방향성이 없다. 80% 만족률 검증 실시\n",
    "#귀무가설: 임의 교육 수료 후, 80% 정도의 만족률을 보인다.\n",
    "#대립가설: 임의 교육 수료 후, 80% 정도의 만족률을 보이지 않는다.\n",
    "\n",
    "print(\"---\"*20)\n",
    "print(\"양측 검정: 방향성이 없다. 80% 만족률 검증 실시\")\n",
    "\n",
    "data = pd.read_csv(\"https://raw.githubusercontent.com/wjddyd66/R/master/Data/one_sample.csv\")\n",
    "print(\"\\ndata: \", data.head(3))\n",
    "print(\"\\ndata.describe(): \", data.describe())\n",
    "\n",
    "ctab = pd.crosstab(index=data[\"survey\"], columns=\"count\")\n",
    "ctab.index = [\"불만족\", \"만족\"]\n",
    "print(\"\\n ctab: \",ctab) # 불만족 14, 만족 136\n",
    "\n",
    "result = stats.binom_test([136, 14], p=0.8, alternative=\"two-sided\")\n",
    "result2 = stats.binom_test([14, 136], p=0.2, alternative=\"two-sided\")\n",
    "# alternative -> 방향성 명시\n",
    "# alternative= : {'two-sided','greater','less'} 선택 사항 :기본은 two-sided\n",
    "\n",
    "print(\"\\n result:\",result) # p-value = 0.000673 < 0.05 (대립 채택)\n",
    "print(\"result2:\",result2)\n",
    "# 기존 만족율 80% 라는 결과와는 차이가 있다.\n",
    "# 검정 결과에서 '크다, 작다' 등의 방향성은 제시하지 않는다.\n",
    "# 옵션을 반대로 입력해주어도 같은 결과를 보인다."
   ]
  },
  {
   "cell_type": "code",
   "execution_count": 4,
   "metadata": {},
   "outputs": [
    {
     "name": "stdout",
     "output_type": "stream",
     "text": [
      "result3: 0.0003179401921985477\n"
     ]
    }
   ],
   "source": [
    "#만족률이 더 클것이라고 가정한 경우\n",
    "result3 = stats.binom_test([136, 14], p=0.8, alternative=\"greater\")\n",
    "print(\"result3:\",result3)\n",
    "#p-value=0.000317 < 0.05 -> 대립 채택"
   ]
  },
  {
   "cell_type": "code",
   "execution_count": 5,
   "metadata": {},
   "outputs": [
    {
     "name": "stdout",
     "output_type": "stream",
     "text": [
      "result4: 0.0003179401921985477\n"
     ]
    }
   ],
   "source": [
    "#만족률이 더 것이라고 가정한 경우\n",
    "result4 = stats.binom_test([14, 136], p=0.2, alternative=\"less\")\n",
    "print(\"result4:\",result4)\n",
    "#p-value=0.000317 < 0.05 -> 대립 채택"
   ]
  },
  {
   "cell_type": "code",
   "execution_count": 7,
   "metadata": {},
   "outputs": [
    {
     "name": "stdout",
     "output_type": "stream",
     "text": [
      "   친밀도  적절성  만족도\n",
      "0    3    4    3\n",
      "1    3    3    2\n",
      "2    4    4    4\n",
      "              친밀도         적절성         만족도\n",
      "count  264.000000  264.000000  264.000000\n",
      "mean     2.928030    3.132576    3.094697\n",
      "std      0.970345    0.859657    0.828744\n",
      "min      1.000000    1.000000    1.000000\n",
      "25%      2.000000    3.000000    3.000000\n",
      "50%      3.000000    3.000000    3.000000\n",
      "75%      4.000000    4.000000    4.000000\n",
      "max      5.000000    5.000000    5.000000\n",
      "\n",
      "0.9685051269352726\n",
      "0.858027707764203\n",
      "0.8271724742228972\n",
      "\n",
      "공분산\n",
      "[[0.94156873 0.41642182]\n",
      " [0.41642182 0.73901083]]\n",
      "[[0.94156873 0.37566252]\n",
      " [0.37566252 0.68681588]]\n",
      "\n",
      "          친밀도       적절성       만족도\n",
      "친밀도  0.941569  0.416422  0.375663\n",
      "적절성  0.416422  0.739011  0.546333\n",
      "만족도  0.375663  0.546333  0.686816\n",
      "\n",
      "상관계수\n",
      "[[1.         0.49920861]\n",
      " [0.49920861 1.        ]]\n",
      "\n",
      "          친밀도       적절성       만족도\n",
      "친밀도  1.000000  0.499209  0.467145\n",
      "적절성  0.499209  1.000000  0.766853\n",
      "만족도  0.467145  0.766853  1.000000\n"
     ]
    },
    {
     "data": {
      "image/png": "[encoded data removed]",
      "text/plain": [
       "<Figure size 432x288 with 2 Axes>"
      ]
     },
     "metadata": {
      "needs_background": "light"
     },
     "output_type": "display_data"
    }
   ],
   "source": [
    "# 상관분석 : 두 변수 간에 어떤 선형적 관계가 있는지 분석. 밀도를 수치화\n",
    "import pandas as pd\n",
    "from pandas import Series\n",
    "import matplotlib.pyplot as plt\n",
    "import numpy as np\n",
    "import seaborn as sns\n",
    "plt.rc('font', family='malgun gothic')\n",
    "\n",
    "data = pd.read_csv(\"https://raw.githubusercontent.com/wjddyd66/R/master/Data/drinking_water.csv\")\n",
    "print(data.head(3))\n",
    "print(data.describe())\n",
    "\n",
    "print('\\n공분산')\n",
    "print(np.cov(data.친밀도, data.적절성))\n",
    "print(np.cov(data.친밀도, data.만족도))\n",
    "print()\n",
    "print(data.cov())\n",
    "print(\"\\n상관계수\")\n",
    "print(np.corrcoef(data.친밀도, data.적절성))\n",
    "print()\n",
    "print(data.corr(method='pearson')) # 등간, 비율척도일때 주로 사용\n",
    "# print(data.corr(method='spearman')) # 서열척도일때 주로 사용\n",
    "# print(data.corr(method='kendall')) \n",
    "\n",
    "# sns.heatmap(data.corr())\n",
    "# plt.show()\n",
    "\n",
    "# hitmap에 텍스트 표시 추가사항 적용해 보기\n",
    "corr = data.corr()\n",
    "# Generate a mask for the upper triangle\n",
    "mask = np.zeros_like(corr, dtype=np.bool)  # 상관계수값 표시\n",
    "mask[np.triu_indices_from(mask)] = True\n",
    "# Draw the heatmap with the mask and correct aspect ratio\n",
    "vmax = np.abs(corr.values[~mask]).max()\n",
    "fig, ax = plt.subplots()     # Set up the matplotlib figure\n",
    "\n",
    "sns.heatmap(corr, mask=mask, vmin=-vmax, vmax=vmax,\n",
    "square=True, linecolor=\"lightgray\", linewidths=1, ax=ax)\n",
    "\n",
    "for i in range(len(corr)):\n",
    "    ax.text(i + 0.5, len(corr) - (i + 0.5), corr.columns[i],\n",
    "ha=\"center\", va=\"center\", rotation=45)\n",
    "    for j in range(i + 1, len(corr)):\n",
    "        s = \"{:.3f}\".format(corr.values[i, j])\n",
    "        ax.text(j + 0.5, len(corr) - (i + 0.5), s, ha=\"center\", va=\"center\")\n",
    "ax.axis(\"off\")\n",
    "plt.show()"
   ]
  }
 ],
 "metadata": {
  "kernelspec": {
   "display_name": "Python 3",
   "language": "python",
   "name": "python3"
  },
  "language_info": {
   "codemirror_mode": {
    "name": "ipython",
    "version": 3
   },
   "file_extension": ".py",
   "mimetype": "text/x-python",
   "name": "python",
   "nbconvert_exporter": "python",
   "pygments_lexer": "ipython3",
   "version": "3.7.3"
  }
 },
 "nbformat": 4,
 "nbformat_minor": 2
}
