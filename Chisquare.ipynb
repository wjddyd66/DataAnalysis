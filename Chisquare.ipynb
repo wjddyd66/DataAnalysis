{
 "cells": [
  {
   "cell_type": "code",
   "execution_count": 10,
   "metadata": {},
   "outputs": [],
   "source": [
    "import scipy as sp\n",
    "import scipy.stats as stats\n",
    "import pandas as pd"
   ]
  },
  {
   "cell_type": "code",
   "execution_count": 5,
   "metadata": {},
   "outputs": [
    {
     "name": "stdout",
     "output_type": "stream",
     "text": [
      "Power_divergenceResult(statistic=14.200000000000001, pvalue=0.014387678176921308)\n"
     ]
    }
   ],
   "source": [
    "#적합성 검사\n",
    "#귀무가설: 주사위의 나올 확률은 모두 같다\n",
    "#대립가설: 주사위의 나올 확률을 다르다.\n",
    "data = [4, 6, 17, 16, 8, 9]\n",
    "print(sp.stats.chisquare(data))\n",
    "#p-value(0.014) < 0.05(95% 신뢰확률에서의 유의수준) => 대립가설 채택"
   ]
  },
  {
   "cell_type": "code",
   "execution_count": 8,
   "metadata": {},
   "outputs": [
    {
     "name": "stdout",
     "output_type": "stream",
     "text": [
      "   education  smoking\n",
      "0          1        1\n",
      "1          1        1\n",
      "2          1        1\n"
     ]
    }
   ],
   "source": [
    "#성 검사\n",
    "data = pd.read_csv(\"https://raw.githubusercontent.com/wjddyd66/R/master/Data/smoke.csv\")\n",
    "print(data.head(3))"
   ]
  },
  {
   "cell_type": "code",
   "execution_count": 11,
   "metadata": {},
   "outputs": [
    {
     "name": "stdout",
     "output_type": "stream",
     "text": [
      "         과흡연        보통       비흡연\n",
      "대졸  0.143662  0.259155  0.191549\n",
      "고졸  0.061972  0.059155  0.025352\n",
      "중졸  0.121127  0.078873  0.059155\n",
      "(0.05327018518268719, 0.9996515220162085, 4, array([[0.19421543, 0.23607221, 0.16407856],\n",
      "       [0.04786352, 0.05817893, 0.04043642],\n",
      "       [0.08468161, 0.10293196, 0.07154136]]))\n"
     ]
    }
   ],
   "source": [
    "#학력 수준별 흡연 인원수\n",
    "ctab = pd.crosstab(index=data[\"education\"], columns=data[\"smoking\"],\\\n",
    "                   normalize=True)\n",
    "#normalize=True => 비율로서 표현한다.\n",
    "ctab.index = [\"대졸\", \"고졸\", \"중졸\"]\n",
    "ctab.columns = [\"과흡연\", \"보통\", \"비흡연\"]\n",
    "print(ctab)\n",
    "\n",
    "result = stats.chi2_contingency(ctab)\n",
    "print(result)"
   ]
  },
  {
   "cell_type": "code",
   "execution_count": 12,
   "metadata": {},
   "outputs": [
    {
     "name": "stdout",
     "output_type": "stream",
     "text": [
      "chi2:0.05327018518268719, p-value:0.9996515220162085, df:4\n",
      "[[0.19421543 0.23607221 0.16407856]\n",
      " [0.04786352 0.05817893 0.04043642]\n",
      " [0.08468161 0.10293196 0.07154136]]\n"
     ]
    }
   ],
   "source": [
    "#귀무가설: 학력 수준과 흡연은 관계가 없다.\n",
    "#대립가설: 학력 수준과 흡연은 관계가 있다.\n",
    "chi2, p, dof, expected = stats.chi2_contingency(ctab)\n",
    "msg = \"chi2:{}, p-value:{}, df:{}\"\n",
    "print(msg.format(chi2, p, dof))\n",
    "print(expected)\n",
    "#p-value(0.99) > 0.05(95% 신뢰확률에서의 유의수준) => 귀무가설 채택"
   ]
  },
  {
   "cell_type": "code",
   "execution_count": 16,
   "metadata": {},
   "outputs": [
    {
     "name": "stdout",
     "output_type": "stream",
     "text": [
      "   no  method  survey\n",
      "0   1       1       1\n",
      "1   2       2       2\n",
      "2   3       3       3\n",
      "3   4       1       4\n",
      "4   5       2       5\n",
      "survey  1   2   3   4  5\n",
      "method                  \n",
      "1       5   8  15  16  6\n",
      "2       8  14  11  11  6\n",
      "3       8   7  11  15  9\n",
      "chi2:6.544667820529891, p-value:0.5864574374550608, df:8\n"
     ]
    }
   ],
   "source": [
    "#동질성 검정\n",
    "#귀무가설: 교육방법에 따른 교육생들의 만족도 차이거 없다.\n",
    "#대립가설: 교육방법에 따른 교육생들의 만족도 차이거 있다.\n",
    "data = pd.read_csv(\"https://raw.githubusercontent.com/wjddyd66/R/master/Data/survey_method.csv\")\n",
    "print(data.head(5))\n",
    "\n",
    "ctab = pd.crosstab(index=data[\"method\"], columns=data[\"survey\"])\n",
    "print(ctab)\n",
    "chi2, p, dof, expected = stats.chi2_contingency(ctab)\n",
    "msg = \"chi2:{}, p-value:{}, df:{}\"\n",
    "print(msg.format(chi2, p, dof))\n",
    "#p-value(0.58) > 0.05(95% 신뢰확률에서의 유의수준) => 귀무가설 채택"
   ]
  },
  {
   "cell_type": "code",
   "execution_count": null,
   "metadata": {},
   "outputs": [],
   "source": []
  }
 ],
 "metadata": {
  "kernelspec": {
   "display_name": "Python 3",
   "language": "python",
   "name": "python3"
  },
  "language_info": {
   "codemirror_mode": {
    "name": "ipython",
    "version": 3
   },
   "file_extension": ".py",
   "mimetype": "text/x-python",
   "name": "python",
   "nbconvert_exporter": "python",
   "pygments_lexer": "ipython3",
   "version": "3.7.3"
  }
 },
 "nbformat": 4,
 "nbformat_minor": 2
}
