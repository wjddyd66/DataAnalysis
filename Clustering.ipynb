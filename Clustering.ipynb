{
 "cells": [
  {
   "cell_type": "code",
   "execution_count": null,
   "metadata": {},
   "outputs": [],
   "source": [
    "import pandas as pd\n",
    "import numpy as np\n",
    "import matplotlib.pyplot as plt\n",
    "from sklearn.datasets import load_iris\n",
    "from sklearn.datasets import make_blobs\n",
    "from scipy.cluster.hierarchy import linkage, dendrogram\n",
    "from sklearn.cluster import KMeans\n",
    "from sklearn.metrics import silhouette_samples"
   ]
  },
  {
   "cell_type": "code",
   "execution_count": null,
   "metadata": {},
   "outputs": [],
   "source": [
    "#계층적 군집화\n",
    "iris = load_iris()\n",
    "#print(iris)\n",
    "iris_df = pd.DataFrame(iris.data, columns = iris.feature_names)\n",
    "print(iris_df.head(5))\n",
    "\n",
    "from scipy.spatial.distance import pdist, squareform\n",
    "distmatrix = pdist(iris_df.loc[0:4, [\"sepal length (cm)\", \"sepal width (cm)\"]], \n",
    "                   metric = \"euclidean\")\n",
    "print(\"distmatrix: \", distmatrix)\n",
    "\n",
    "row_dist = pd.DataFrame(squareform(distmatrix))\n",
    "print(\"row_dist: \", row_dist)"
   ]
  },
  {
   "cell_type": "code",
   "execution_count": null,
   "metadata": {},
   "outputs": [],
   "source": [
    "#단일연결법\n",
    "r_cluster = linkage(distmatrix, method = \"single\")\n",
    "print(\"r_cluster: \", r_cluster)\n",
    "df = pd.DataFrame(r_cluster, columns = [\"id_1\", \"id_2\", \"거리\", \"멤버 수\"])\n",
    "print(df)\n",
    "\n",
    "row_dend = dendrogram(r_cluster)\n",
    "plt.tight_layout()\n",
    "plt.show()"
   ]
  },
  {
   "cell_type": "code",
   "execution_count": null,
   "metadata": {},
   "outputs": [],
   "source": [
    "#완전연결법\n",
    "r_cluster = linkage(distmatrix, method = \"complete\")\n",
    "print(\"r_cluster: \", r_cluster)\n",
    "df = pd.DataFrame(r_cluster, columns = [\"id_1\", \"id_2\", \"거리\", \"멤버 수\"])\n",
    "print(df)\n",
    "\n",
    "row_dend = dendrogram(r_cluster)\n",
    "plt.tight_layout()\n",
    "plt.show()"
   ]
  },
  {
   "cell_type": "code",
   "execution_count": null,
   "metadata": {},
   "outputs": [],
   "source": [
    "#평균연결법\n",
    "r_cluster = linkage(distmatrix, method = \"average\")\n",
    "print(\"r_cluster: \", r_cluster)\n",
    "df = pd.DataFrame(r_cluster, columns = [\"id_1\", \"id_2\", \"거리\", \"멤버 수\"])\n",
    "print(df)\n",
    "\n",
    "row_dend = dendrogram(r_cluster)\n",
    "plt.tight_layout()\n",
    "plt.show()"
   ]
  },
  {
   "cell_type": "code",
   "execution_count": null,
   "metadata": {},
   "outputs": [],
   "source": [
    "#비계층적 군집화\n",
    "#초기 Data 시각화\n",
    "print(make_blobs)\n",
    "x, y = make_blobs(n_samples = 150, n_features = 2, centers = 3,\n",
    "                  cluster_std = 0.5, shuffle = True, random_state = 0)\n",
    "print(\"x.shape: \", x.shape, \", y.shape: \", y.shape)\n",
    "\n",
    "plt.scatter(x[:, 0], x[:,1], marker = \"o\", s = 50)\n",
    "plt.grid()\n",
    "plt.show()"
   ]
  },
  {
   "cell_type": "code",
   "execution_count": null,
   "metadata": {},
   "outputs": [],
   "source": [
    "#Kmeans Clustering\n",
    "init_centroid = \"random\" # 초기 클러스터 중심을 임의적\n",
    "#init_centroid = \"k-means++\" # 기본값\n",
    "\n",
    "kmodel = KMeans(n_clusters = 3, init = init_centroid, random_state = 0)\n",
    "print(kmodel)\n",
    "pred = kmodel.fit_predict(x)\n",
    "print(\"pred: \", pred)\n",
    "plt.scatter(x[pred == 0, 0], x[pred == 0, 1], marker = \"o\", s = 50, c = \"red\", label = \"cluster1\")\n",
    "plt.scatter(x[pred == 1, 0], x[pred == 1, 1], marker = \"s\", s = 50, c = \"green\", label = \"cluster2\")\n",
    "plt.scatter(x[pred == 2, 0], x[pred == 2, 1], marker = \"v\", s = 50, c = \"blue\", label = \"cluster3\")\n",
    "\n",
    "plt.scatter(kmodel.cluster_centers_[:,0], kmodel.cluster_centers_[:,1],\n",
    "            marker = \"+\", s = 80, c = \"black\", label = \"center\")\n",
    "plt.legend()\n",
    "plt.grid()\n",
    "plt.show()"
   ]
  },
  {
   "cell_type": "code",
   "execution_count": null,
   "metadata": {},
   "outputs": [],
   "source": [
    "#n-clusters를 알기위한 방법\n",
    "#1 엘보우 기법: 클러스터 내 오차제곱합이 최소가 되도록 클러스터의 중심을 결정해 나가는 방법\n",
    "def elbow(x):\n",
    "    sse = [] #오차제곱합이 최소가 되도록 클러스터의 중심을 결정\n",
    "    for i in range(1, 11):\n",
    "        km = KMeans(n_clusters = i, init = \"k-means++\", random_state = 0)\n",
    "        km.fit(x)\n",
    "        sse.append(km.inertia_)\n",
    "    print(sse[3])\n",
    "    plt.plot(range(1, 11), sse, marker = \"o\")\n",
    "    plt.axvline(x=3,color='r')\n",
    "    plt.axhline(y=sse[3],color='r')\n",
    "    plt.xlabel(\"Number of Cluster\")\n",
    "    plt.ylabel(\"sse\")\n",
    "    plt.show()\n",
    "    \n",
    "elbow(x)"
   ]
  },
  {
   "cell_type": "code",
   "execution_count": null,
   "metadata": {},
   "outputs": [],
   "source": [
    "#2. 실루엣 기법: 클러스터링의 품질을 정량적으로 계산해 주는 방법\n",
    "def plotSilhouette(x, pred):\n",
    "    cluster_labels = np.unique(pred)\n",
    "    n_clusters = cluster_labels.shape[0]   # 클러스터 개수를 n_clusters에 저장\n",
    "    sil_val = silhouette_samples(x, pred, metric='euclidean')  # 실루엣 계수를 계산\n",
    "    y_ax_lower, y_ax_upper = 0, 0\n",
    "    yticks = []\n",
    "    for i, c in enumerate(cluster_labels):\n",
    "        # 각 클러스터에 속하는 데이터들에 대한 실루엣 값을 수평 막대 그래프로 그려주기\n",
    "        c_sil_value = sil_val[pred == c]\n",
    "        c_sil_value.sort()\n",
    "        y_ax_upper += len(c_sil_value)\n",
    "\n",
    "        plt.barh(range(y_ax_lower, y_ax_upper), c_sil_value, height=1.0, edgecolor='none')\n",
    "        yticks.append((y_ax_lower + y_ax_upper) / 2)\n",
    "        y_ax_lower += len(c_sil_value)\n",
    "\n",
    "    sil_avg = np.mean(sil_val)         # 평균 저장\n",
    "    plt.axvline(sil_avg, color='red', linestyle='--')  # 계산된 실루엣 계수의 평균값을 빨간 점선으로 표시\n",
    "    plt.yticks(yticks, cluster_labels + 1)\n",
    "    plt.ylabel('Cluster')\n",
    "    plt.xlabel('Number of Cluster')\n",
    "    plt.show() \n",
    "\n",
    "X, y = make_blobs(n_samples=150, n_features=2, centers=3, cluster_std=0.5, shuffle=True, random_state=0)\n",
    "km = KMeans(n_clusters=3, random_state=0) \n",
    "y_km = km.fit_predict(X)\n",
    "\n",
    "plotSilhouette(X, y_km)"
   ]
  }
 ],
 "metadata": {
  "kernelspec": {
   "display_name": "Python 3",
   "language": "python",
   "name": "python3"
  },
  "language_info": {
   "codemirror_mode": {
    "name": "ipython",
    "version": 3
   },
   "file_extension": ".py",
   "mimetype": "text/x-python",
   "name": "python",
   "nbconvert_exporter": "python",
   "pygments_lexer": "ipython3",
   "version": "3.7.3"
  }
 },
 "nbformat": 4,
 "nbformat_minor": 2
}
