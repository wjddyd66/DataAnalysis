{
 "cells": [
  {
   "cell_type": "code",
   "execution_count": 1,
   "metadata": {},
   "outputs": [],
   "source": [
    "from pandas import DataFrame,Series\n",
    "import numpy as np\n",
    "import pandas as pd"
   ]
  },
  {
   "cell_type": "code",
   "execution_count": 2,
   "metadata": {},
   "outputs": [
    {
     "name": "stdout",
     "output_type": "stream",
     "text": [
      "0      3\n",
      "1      7\n",
      "2     -5\n",
      "3    kbs\n",
      "dtype: object\n",
      "<class 'pandas.core.series.Series'>\n"
     ]
    }
   ],
   "source": [
    "#Series 클래스 사용하기\n",
    "#선언\n",
    "obj = Series([3,7,-5,4])\n",
    "obj = Series((3,7,-5,4))\n",
    "#obj = Series({3,7,-5,4}) # Type Error: \"set\" type is unorderd\n",
    "obj = Series((3,7,-5,\"kbs\"))\n",
    "print(obj)\n",
    "print(type(obj))"
   ]
  },
  {
   "cell_type": "code",
   "execution_count": 3,
   "metadata": {},
   "outputs": [
    {
     "name": "stdout",
     "output_type": "stream",
     "text": [
      "a    3\n",
      "b    7\n",
      "d   -5\n",
      "c    4\n",
      "dtype: int64\n",
      "9   5.123475382979799\n",
      "[ 3  7 -5  4]\n",
      "Index(['a', 'b', 'd', 'c'], dtype='object')\n",
      "3\n",
      "a    3\n",
      "d   -5\n",
      "dtype: int64\n",
      "b    7\n",
      "d   -5\n",
      "c    4\n",
      "dtype: int64\n",
      "-5\n",
      "b    7\n",
      "d   -5\n",
      "dtype: int64\n",
      "d   -5\n",
      "c    4\n",
      "dtype: int64\n",
      "a     True\n",
      "b     True\n",
      "d    False\n",
      "c     True\n",
      "dtype: bool\n",
      "True\n"
     ]
    }
   ],
   "source": [
    "#Series의 특징이다 index의 값을 직접 지정 가능하다\n",
    "obj2 = Series([3,7,-5,4], index=[\"a\",\"b\",\"d\",\"c\"])\n",
    "\n",
    "print(obj2)\n",
    "print(obj2.sum(), \" \",obj2.std()) # 합계, 편차\n",
    "print(obj2.values) # value만 추출가능\n",
    "print(obj2.index) # index만 추출가능\n",
    "\n",
    "print(obj2[\"a\"])\n",
    "print(obj2[[\"a\", \"d\"]])\n",
    "print(obj2[\"b\":\"c\"]) # 범위지정 가능\n",
    "\n",
    "print(obj2[2])\n",
    "print(obj2[1:3])\n",
    "print(obj2[[2,3]])\n",
    "\n",
    "print(obj2>0)\n",
    "print(\"a\" in obj2)"
   ]
  },
  {
   "cell_type": "code",
   "execution_count": 4,
   "metadata": {},
   "outputs": [
    {
     "name": "stdout",
     "output_type": "stream",
     "text": [
      "{'mouse': 12000, 'keyboard': 25000, 'mornitor': '450000'}\n",
      "mouse        12000\n",
      "keyboard     25000\n",
      "mornitor    450000\n",
      "dtype: object\n"
     ]
    }
   ],
   "source": [
    "#Series를 사용하여 객체로서 만들수 있다.\n",
    "names = {'mouse':12000, 'keyboard':25000, 'mornitor':'450000'}\n",
    "print(names)\n",
    "\n",
    "obj3 = Series(names)\n",
    "print(obj3) #Dict -> pandas.core.Series"
   ]
  },
  {
   "cell_type": "code",
   "execution_count": 5,
   "metadata": {},
   "outputs": [
    {
     "name": "stdout",
     "output_type": "stream",
     "text": [
      "마우스     12000\n",
      "키보드     25000\n",
      "모니터    450000\n",
      "Name: 시리즈데이터, dtype: object\n"
     ]
    }
   ],
   "source": [
    "obj3.index = [\"마우스\", \"키보드\", \"모니터\"] #index변경 가능\n",
    "obj3.name = \"시리즈데이터\" #객체 자체에 이름 부여 가능\n",
    "print(obj3)"
   ]
  },
  {
   "cell_type": "code",
   "execution_count": 6,
   "metadata": {},
   "outputs": [
    {
     "name": "stdout",
     "output_type": "stream",
     "text": [
      "a    0.0\n",
      "b    1.0\n",
      "c    2.0\n",
      "d    3.0\n",
      "dtype: float64\n",
      "1.0\n",
      "1.0\n",
      "c    2.0\n",
      "d    3.0\n",
      "dtype: float64\n",
      "b    1.0\n",
      "d    3.0\n",
      "dtype: float64\n",
      "c    2.0\n",
      "a    0.0\n",
      "dtype: float64\n",
      "a    0.0\n",
      "b    1.0\n",
      "c    2.0\n",
      "dtype: float64\n",
      "a    0.0\n",
      "b    1.0\n",
      "dtype: float64\n",
      "a    0.0\n",
      "b    7.0\n",
      "c    7.0\n",
      "d    3.0\n",
      "dtype: float64\n"
     ]
    }
   ],
   "source": [
    "# Slicing(슬라이싱)\n",
    "#Index 혹은 순서로서 접근 가능하다.\n",
    "obj = Series(np.arange(4.), index = (\"a\",\"b\",\"c\",\"d\"))\n",
    "print(obj)\n",
    "print(obj[1])\n",
    "print(obj[\"b\"])\n",
    "print(obj[2:4])\n",
    "print(obj[[1,3]])\n",
    "print(obj[[\"c\",\"a\"]])\n",
    "print(obj[\"a\":\"c\"])\n",
    "print(obj[obj<2])\n",
    "\n",
    "obj[\"b\":\"c\"] = 7\n",
    "print(obj)"
   ]
  },
  {
   "cell_type": "code",
   "execution_count": 7,
   "metadata": {},
   "outputs": [
    {
     "name": "stdout",
     "output_type": "stream",
     "text": [
      "a    0.0\n",
      "b    1.0\n",
      "c    2.0\n",
      "d    3.0\n",
      "dtype: float64\n",
      "a    0.0\n",
      "b    1.0\n",
      "c    2.0\n",
      "d    3.0\n",
      "dtype: float64\n",
      "d    3.0\n",
      "c    2.0\n",
      "b    1.0\n",
      "a    0.0\n",
      "dtype: float64\n",
      "\n",
      "a    0.0\n",
      "b    1.0\n",
      "c    2.0\n",
      "d    3.0\n",
      "dtype: float64\n",
      "d    3.0\n",
      "c    2.0\n",
      "b    1.0\n",
      "a    0.0\n",
      "dtype: float64\n"
     ]
    }
   ],
   "source": [
    "# 정렬\n",
    "obj = Series(np.arange(4.), index = (\"a\",\"b\",\"c\",\"d\"))\n",
    "print(obj)\n",
    "\n",
    "print(obj.sort_values(0, ascending=True))\n",
    "print(obj.sort_values(0, ascending=False))\n",
    "\n",
    "print()\n",
    "print(obj.sort_index())\n",
    "print(obj.sort_index(ascending=False))"
   ]
  },
  {
   "cell_type": "code",
   "execution_count": 8,
   "metadata": {},
   "outputs": [
    {
     "name": "stdout",
     "output_type": "stream",
     "text": [
      "a    5.0\n",
      "b    7.0\n",
      "c    NaN\n",
      "d    NaN\n",
      "dtype: float64\n",
      "a    5.0\n",
      "b    7.0\n",
      "c    NaN\n",
      "d    NaN\n",
      "dtype: float64\n"
     ]
    }
   ],
   "source": [
    "#연산: 같은 Index끼리 연산한다. \n",
    "#Index가 서로 일치하지 않으면 연산하지 않고 그 칼럼의 값은 NaN으로 채운다.\n",
    "s1 = Series([1,2,3], index=[\"a\", \"b\", \"c\"])\n",
    "s2 = Series([4,5,6], index=[\"a\", \"b\", \"d\"])\n",
    "print(s1+s2)\n",
    "print(s1.add(s2))"
   ]
  },
  {
   "cell_type": "code",
   "execution_count": 9,
   "metadata": {},
   "outputs": [
    {
     "name": "stdout",
     "output_type": "stream",
     "text": [
      "{'irum': ['홍길동', '한국인', '신기해', '공기밥', '한가해'], 'juso': ('역삼동', '신당동', '역삼동', '역삼동', '신사동'), 'nai': [23, 25, 33, 30, 35]} <class 'dict'>\n",
      "  irum juso  nai\n",
      "0  홍길동  역삼동   23\n",
      "1  한국인  신당동   25\n",
      "2  신기해  역삼동   33\n",
      "3  공기밥  역삼동   30\n",
      "4  한가해  신사동   35 <class 'pandas.core.frame.DataFrame'>\n",
      "0    홍길동\n",
      "1    한국인\n",
      "2    신기해\n",
      "3    공기밥\n",
      "4    한가해\n",
      "Name: irum, dtype: object\n",
      "0    홍길동\n",
      "1    한국인\n",
      "2    신기해\n",
      "3    공기밥\n",
      "4    한가해\n",
      "Name: irum, dtype: object\n",
      "  juso irum  nai\n",
      "0  역삼동  홍길동   23\n",
      "1  신당동  한국인   25\n",
      "2  역삼동  신기해   33\n",
      "3  역삼동  공기밥   30\n",
      "4  신사동  한가해   35\n",
      "  irum  nai juso junhwa\n",
      "a  홍길동   23  역삼동    NaN\n",
      "b  한국인   25  신당동    NaN\n",
      "c  신기해   33  역삼동    NaN\n",
      "d  공기밥   30  역삼동    NaN\n",
      "e  한가해   35  신사동    NaN\n",
      "  irum  nai juso    junhwa\n",
      "a  홍길동   23  역삼동  111-1111\n",
      "b  한국인   25  신당동  111-1111\n",
      "c  신기해   33  역삼동  111-1111\n",
      "d  공기밥   30  역삼동  111-1111\n",
      "e  한가해   35  신사동  111-1111\n",
      "  irum  nai juso    junhwa\n",
      "a  홍길동   23  역삼동       NaN\n",
      "b  한국인   25  신당동  222-2222\n",
      "c  신기해   33  역삼동  333-3333\n",
      "d  공기밥   30  역삼동       NaN\n",
      "e  한가해   35  신사동  444-4444\n",
      "[['홍길동' 23 '역삼동' nan]\n",
      " ['한국인' 25 '신당동' '222-2222']\n",
      " ['신기해' 33 '역삼동' '333-3333']\n",
      " ['공기밥' 30 '역삼동' nan]\n",
      " ['한가해' 35 '신사동' '444-4444']]\n",
      "\n",
      "          a         b         c    d         e\n",
      "irum    홍길동       한국인       신기해  공기밥       한가해\n",
      "nai      23        25        33   30        35\n",
      "juso    역삼동       신당동       역삼동  역삼동       신사동\n",
      "junhwa  NaN  222-2222  333-3333  NaN  444-4444\n",
      "[['홍길동' 23 '역삼동' nan]\n",
      " ['한국인' 25 '신당동' '222-2222']\n",
      " ['신기해' 33 '역삼동' '333-3333']\n",
      " ['공기밥' 30 '역삼동' nan]\n",
      " ['한가해' 35 '신사동' '444-4444']]\n",
      "역삼동\n"
     ]
    }
   ],
   "source": [
    "#DataFrame 사용하기\n",
    "#생성 및 접근\n",
    "data = { 'irum':['홍길동', '한국인', '신기해', '공기밥', '한가해'], \n",
    "        'juso':('역삼동', '신당동', '역삼동', '역삼동', '신사동'), \n",
    "        'nai':[23, 25, 33, 30, 35], }\n",
    "print(data, type(data))#Dict Type 출력\n",
    "\n",
    "frame = DataFrame(data)\n",
    "print(frame, type(frame)) #Dataframe으로 만들기\n",
    "\n",
    "print(frame[\"irum\"]) #Dataframe Column에 접근하는 방법\n",
    "print(frame.irum)\n",
    "\n",
    "print(DataFrame(data, columns=[\"juso\", \"irum\", \"nai\"])) #Dataframe Column 내용 바꾸기\n",
    "\n",
    "frame2 = DataFrame(data, columns=[\"irum\", \"nai\", \"juso\", \"junhwa\"],\\\n",
    "                  index=[\"a\",\"b\",\"c\",\"d\",\"e\"])\n",
    "print(frame2) #값이 없으면 NaN으로서 채워진다.\n",
    "\n",
    "frame2[\"junhwa\"] = \"111-1111\" #모든값이 111-1111로 채워진다\n",
    "print(frame2)\n",
    "\n",
    "val = Series([\"222-2222\", \"333-3333\", \"444-4444\"]\n",
    "             , index=[\"b\",\"c\",\"e\"])\n",
    "frame2[\"junhwa\"] = val #index에 맞게 값이 들어가게 된다.\n",
    "print(frame2)\n",
    "print(frame2.values)\n",
    "\n",
    "print()\n",
    "print(frame2.T) # 전치\n",
    "print(frame2.values)\n",
    "print(frame2.values[0,2]) #index로 접근하여 특정 값만 추출 가능"
   ]
  },
  {
   "cell_type": "code",
   "execution_count": 10,
   "metadata": {},
   "outputs": [
    {
     "name": "stdout",
     "output_type": "stream",
     "text": [
      "  irum  nai juso    junhwa\n",
      "a  홍길동   23  역삼동       NaN\n",
      "b  한국인   25  신당동  222-2222\n",
      "c  신기해   33  역삼동  333-3333\n",
      "d  공기밥   30  역삼동       NaN\n",
      "e  한가해   35  신사동  444-4444\n",
      "  irum  nai juso    junhwa\n",
      "a  홍길동   23  역삼동       NaN\n",
      "b  한국인   25  신당동  222-2222\n",
      "c  신기해   33  역삼동  333-3333\n",
      "e  한가해   35  신사동  444-4444\n",
      "  irum  nai juso\n",
      "a  홍길동   23  역삼동\n",
      "b  한국인   25  신당동\n",
      "c  신기해   33  역삼동\n",
      "e  한가해   35  신사동\n"
     ]
    }
   ],
   "source": [
    "#삭제\n",
    "print(frame2)\n",
    "frame3 = frame2.drop(\"d\") # drop: 행 삭제 함수\n",
    "frame3 = frame2.drop(\"d\", axis=0) # 상동표현\n",
    "print(frame3)\n",
    "\n",
    "frame4 = frame3.drop(\"junhwa\", axis=1)\n",
    "print(frame4)"
   ]
  },
  {
   "cell_type": "code",
   "execution_count": 11,
   "metadata": {},
   "outputs": [
    {
     "name": "stdout",
     "output_type": "stream",
     "text": [
      "  irum  nai juso\n",
      "e  한가해   35  신사동\n",
      "c  신기해   33  역삼동\n",
      "b  한국인   25  신당동\n",
      "a  홍길동   23  역삼동\n",
      "  irum juso  nai\n",
      "a  홍길동  역삼동   23\n",
      "b  한국인  신당동   25\n",
      "c  신기해  역삼동   33\n",
      "e  한가해  신사동   35\n",
      "   nai\n",
      "a  1.0\n",
      "b  1.0\n",
      "c  1.0\n",
      "e  1.0\n",
      "   irum  nai  juso\n",
      "a   4.0  1.0   3.5\n",
      "b   3.0  2.0   1.0\n",
      "c   1.0  3.0   3.5\n",
      "e   2.0  4.0   2.0\n",
      "a    홍길동\n",
      "b    한국인\n",
      "Name: irum, dtype: object\n",
      "역삼동    2\n",
      "신사동    1\n",
      "신당동    1\n",
      "Name: juso, dtype: int64\n",
      "      juso  inwon\n",
      "0  강남구 역삼동     23\n",
      "1   중구 신당동     25\n",
      "2  강남구 대치동     15\n",
      "강남구    2\n",
      "중구     1\n",
      "dtype: int64\n"
     ]
    }
   ],
   "source": [
    "#정렬하기\n",
    "print(frame4.sort_index(axis=0, ascending=False))\n",
    "print(frame4.sort_index(axis=1, ascending=True))\n",
    "\n",
    "print(frame4.rank(axis=1))\n",
    "print(frame4.rank(axis=0))\n",
    "\n",
    "print(frame4[\"irum\"][:2])\n",
    "\n",
    "counts = frame4[\"juso\"].value_counts() #juso 칼럼의 value들의 갯수를 반환\n",
    "print(counts)\n",
    "\n",
    "data = {\"juso\":[\"강남구 역삼동\", \"중구 신당동\", \"강남구 대치동\"],\n",
    "       \"inwon\":[23, 25, 15]}\n",
    "frame = DataFrame(data)\n",
    "print(frame)\n",
    "\n",
    "results = Series([x.split()[0] for x in frame.juso])\n",
    "print(results.value_counts())"
   ]
  },
  {
   "cell_type": "code",
   "execution_count": 12,
   "metadata": {},
   "outputs": [
    {
     "name": "stdout",
     "output_type": "stream",
     "text": [
      "d    5\n",
      "b    7\n",
      "a   -2\n",
      "c    3\n",
      "dtype: int64\n",
      "a   -2\n",
      "b    7\n",
      "c    3\n",
      "d    5\n",
      "e    0\n",
      "dtype: int64\n",
      "0    마우스\n",
      "2    키보드\n",
      "3    모니터\n",
      "dtype: object\n",
      "0    마우스\n",
      "1    NaN\n",
      "2    키보드\n",
      "3    모니터\n",
      "4    NaN\n",
      "5    NaN\n",
      "dtype: object\n",
      "0    마우스\n",
      "1    마우스\n",
      "2    키보드\n",
      "3    모니터\n",
      "4    모니터\n",
      "5    모니터\n",
      "dtype: object\n",
      "0    마우스\n",
      "1    키보드\n",
      "2    키보드\n",
      "3    모니터\n",
      "4    NaN\n",
      "5    NaN\n",
      "dtype: object\n"
     ]
    }
   ],
   "source": [
    "#Reindex: 재색인 \n",
    "data = Series([5,7,-2,3], index = (\"d\",\"b\",\"a\",\"c\"))\n",
    "print(data)\n",
    "\n",
    "data2 = data.reindex([\"a\", \"b\", \"c\", \"d\", \"e\"], fill_value=0) #결측치는 0으로 대체 \n",
    "print(data2) #index를 기준으로 순서 재배치\n",
    "\n",
    "data3 = Series([\"마우스\", \"키보드\", \"모니터\"], index=(0,2,3)) \n",
    "print(data3)\n",
    "\n",
    "print(data3.reindex(range(6)))\n",
    "print(data3.reindex(range(6), method=\"ffill\")) #결측치는 앞의 값으로 대체\n",
    "print(data3.reindex(range(6), method=\"bfill\")) #결측치는 뒤의 값으로 대체"
   ]
  },
  {
   "cell_type": "code",
   "execution_count": 13,
   "metadata": {},
   "outputs": [
    {
     "name": "stdout",
     "output_type": "stream",
     "text": [
      "    강남  강북\n",
      "1월   0   1\n",
      "3월   2   3\n",
      "4월   4   5\n",
      "     강남   강북\n",
      "1월  0.0  1.0\n",
      "2월  NaN  NaN\n",
      "3월  2.0  3.0\n",
      "4월  4.0  5.0\n",
      "    강남  강동  서초\n",
      "1월   0 NaN NaN\n",
      "3월   2 NaN NaN\n",
      "4월   4 NaN NaN\n",
      "    강남  강동  서초\n",
      "1월   0   0   1\n",
      "2월   0   0   1\n",
      "3월   2   2   3\n",
      "4월   4   4   5\n"
     ]
    }
   ],
   "source": [
    "frame = DataFrame(np.arange(6).reshape(3,2),\\\n",
    "                  index=[\"1월\",\"3월\",\"4월\"], columns=[\"강남\",\"강북\"])\n",
    "# arange(6)으로 0~5까지의 숫자 부여하고, reshape(3,2)으로 3x2 행렬로 조정\n",
    "# index와 columns로 행, 열 이름 부여\n",
    "print(frame)\n",
    "\n",
    "frame2 = frame.reindex([\"1월\",\"2월\",\"3월\",\"4월\"])\n",
    "print(frame2)\n",
    "\n",
    "site = [\"강남\", \"강동\", \"서초\"]\n",
    "frame3 = frame.reindex(columns=site)\n",
    "print(frame3)\n",
    "\n",
    "frame4 = frame.reindex([\"1월\",\"2월\",\"3월\",\"4월\"], columns=site, method=\"ffill\")\n",
    "print(frame4)"
   ]
  },
  {
   "cell_type": "code",
   "execution_count": 14,
   "metadata": {},
   "outputs": [
    {
     "name": "stdout",
     "output_type": "stream",
     "text": [
      "    강남  강북  종로\n",
      "1월   0   1   2\n",
      "2월   3   4   5\n",
      "3월   6   7   8\n",
      "4월   9  10  11\n",
      "\n",
      "1월    0\n",
      "2월    3\n",
      "3월    6\n",
      "4월    9\n",
      "Name: 강남, dtype: int32\n",
      "\n",
      "1월    False\n",
      "2월    False\n",
      "3월     True\n",
      "4월     True\n",
      "Name: 강남, dtype: bool\n",
      "\n",
      "       강남     강북     종로\n",
      "1월   True   True   True\n",
      "2월  False  False  False\n",
      "3월  False  False  False\n",
      "4월  False  False  False\n",
      "    강남  강북  종로\n",
      "1월   0   0   0\n",
      "2월   3   4   5\n",
      "3월   6   7   8\n",
      "4월   9  10  11\n",
      "강남    6\n",
      "강북    7\n",
      "종로    8\n",
      "Name: 3월, dtype: int32\n",
      "    강남  강북  종로\n",
      "1월   0   0   0\n",
      "2월   3   4   5\n",
      "3월   6   7   8\n",
      "1월    0\n",
      "2월    5\n",
      "3월    8\n",
      "Name: 종로, dtype: int32\n"
     ]
    }
   ],
   "source": [
    "# Slicing(슬라이싱)\n",
    "frame = DataFrame(np.arange(12).reshape(4,3),\\\n",
    "                  index=[\"1월\",\"2월\",\"3월\",\"4월\"], columns=[\"강남\",\"강북\",\"종로\"])\n",
    "print(frame)\n",
    "print()\n",
    "print(frame[\"강남\"])\n",
    "\n",
    "print()\n",
    "print(frame[\"강남\"] > 3) #결과를 Boolean Type으로 반환한다.\n",
    "\n",
    "print()\n",
    "print(frame < 3) \n",
    "frame[frame < 3] = 0 #조건을 만족하는 column의 값을 바꿀 수 있다.\n",
    "print(frame)\n",
    "\n",
    "print(frame.iloc[2]) # iloc : 숫자지원\n",
    "print(frame.iloc[:3])\n",
    "print(frame.iloc[:3,2])"
   ]
  },
  {
   "cell_type": "code",
   "execution_count": 15,
   "metadata": {},
   "outputs": [
    {
     "name": "stdout",
     "output_type": "stream",
     "text": [
      "    k  b  s\n",
      "서울  0  1  2\n",
      "대전  3  4  5\n",
      "부산  6  7  8\n",
      "    k   b   s\n",
      "서울  0   1   2\n",
      "대전  3   4   5\n",
      "제주  6   7   8\n",
      "광주  9  10  11\n",
      "      k    b     s\n",
      "광주  NaN  NaN   NaN\n",
      "대전  6.0  8.0  10.0\n",
      "부산  NaN  NaN   NaN\n",
      "서울  0.0  2.0   4.0\n",
      "제주  NaN  NaN   NaN\n",
      "      k    b     s\n",
      "광주  NaN  NaN   NaN\n",
      "대전  6.0  8.0  10.0\n",
      "부산  NaN  NaN   NaN\n",
      "서울  0.0  2.0   4.0\n",
      "제주  NaN  NaN   NaN\n",
      "\n",
      "      k     b     s\n",
      "광주  9.0  10.0  11.0\n",
      "대전  6.0   8.0  10.0\n",
      "부산  6.0   7.0   8.0\n",
      "서울  0.0   2.0   4.0\n",
      "제주  6.0   7.0   8.0\n",
      "\n",
      "      k     b     s\n",
      "광주  0.0   0.0   0.0\n",
      "대전  9.0  16.0  25.0\n",
      "부산  0.0   0.0   0.0\n",
      "서울  0.0   1.0   4.0\n",
      "제주  0.0   0.0   0.0\n"
     ]
    }
   ],
   "source": [
    "#연산: 같은 Index끼리 연산한다. Index가 서로 일치하지 않으면\n",
    "#연산하지 않고 그 칼럼의 값은 NaN으로 채운다.\n",
    "df1 = DataFrame(np.arange(9).reshape(3,3), columns=list(\"kbs\"),\\\n",
    "              index=[\"서울\", \"대전\", \"부산\"], dtype=np.int32)\n",
    "df2 = DataFrame(np.arange(12).reshape(4,3), columns=list(\"kbs\"),\\\n",
    "              index=[\"서울\", \"대전\", \"제주\",\"광주\"], dtype=np.int32)\n",
    "print(df1)\n",
    "print(df2)\n",
    "print(df1+df2)\n",
    "\n",
    "print(df1.add(df2))\n",
    "print()\n",
    "print(df1.add(df2, fill_value=0))\n",
    "print()\n",
    "print(df1.mul(df2, fill_value=0))"
   ]
  },
  {
   "cell_type": "code",
   "execution_count": 16,
   "metadata": {},
   "outputs": [
    {
     "name": "stdout",
     "output_type": "stream",
     "text": [
      "k    0\n",
      "b    1\n",
      "s    2\n",
      "Name: 서울, dtype: int32 <class 'pandas.core.series.Series'>\n",
      "\n",
      "    k  b  s\n",
      "서울  0  0  0\n",
      "대전  3  3  3\n",
      "부산  6  6  6\n"
     ]
    }
   ],
   "source": [
    "seri = df1.iloc[0]\n",
    "print(seri, type(seri))\n",
    "print()\n",
    "print(df1 - seri) # DataFrame과 Series 간 연산 가능\n",
    "# -> Series 색인을 데이터프레임에 맞춰 전파한다."
   ]
  },
  {
   "cell_type": "code",
   "execution_count": 17,
   "metadata": {},
   "outputs": [
    {
     "name": "stdout",
     "output_type": "stream",
     "text": [
      "      k    b     s\n",
      "광주  NaN  NaN   NaN\n",
      "대전  6.0  8.0  10.0\n",
      "부산  NaN  NaN   NaN\n",
      "서울  0.0  2.0   4.0\n",
      "제주  NaN  NaN   NaN\n",
      "      k    b     s\n",
      "대전  6.0  8.0  10.0\n",
      "서울  0.0  2.0   4.0\n",
      "      k    b     s\n",
      "대전  6.0  8.0  10.0\n",
      "서울  0.0  2.0   4.0\n",
      "      k    b     s\n",
      "광주  0.0  0.0   0.0\n",
      "대전  6.0  8.0  10.0\n",
      "부산  0.0  0.0   0.0\n",
      "서울  0.0  2.0   4.0\n",
      "제주  0.0  0.0   0.0\n",
      "k     6.0\n",
      "b    10.0\n",
      "s    14.0\n",
      "dtype: float64\n",
      "k     6.0\n",
      "b    10.0\n",
      "s    14.0\n",
      "dtype: float64\n",
      "광주     0.0\n",
      "대전    24.0\n",
      "부산     0.0\n",
      "서울     6.0\n",
      "제주     0.0\n",
      "dtype: float64\n"
     ]
    }
   ],
   "source": [
    "df3 = df1.add(df2)\n",
    "print(df3)\n",
    "print(df3.dropna()) \n",
    "print(df3.dropna(how=\"all\")) \n",
    "print(df3.fillna(0)) # NaN 값을 모두 0으로 대체한다.\n",
    "\n",
    "print(df3.sum()) #NaN은 연산에서 제외한다.\n",
    "print(df3.sum(axis=0)) #열의 합\n",
    "print(df3.sum(axis=1)) #행의 합"
   ]
  },
  {
   "cell_type": "code",
   "execution_count": 18,
   "metadata": {},
   "outputs": [
    {
     "name": "stdout",
     "output_type": "stream",
     "text": [
      "              k         b          s\n",
      "count  2.000000  2.000000   2.000000\n",
      "mean   3.000000  5.000000   7.000000\n",
      "std    4.242641  4.242641   4.242641\n",
      "min    0.000000  2.000000   4.000000\n",
      "25%    1.500000  3.500000   5.500000\n",
      "50%    3.000000  5.000000   7.000000\n",
      "75%    4.500000  6.500000   8.500000\n",
      "max    6.000000  8.000000  10.000000\n"
     ]
    }
   ],
   "source": [
    "print(df3.describe())\n",
    "#describe()함수는 데이터의 각종 통계 정보들을 한눈에 보여준다."
   ]
  },
  {
   "cell_type": "code",
   "execution_count": 19,
   "metadata": {},
   "outputs": [
    {
     "name": "stdout",
     "output_type": "stream",
     "text": [
      "    2016  2017  2018\n",
      "대전  1000  1001  1002\n",
      "서울  1003  1004  1005\n",
      "\n",
      "대전  2016    1000\n",
      "    2017    1001\n",
      "    2018    1002\n",
      "서울  2016    1003\n",
      "    2017    1004\n",
      "    2018    1005\n",
      "dtype: int32\n",
      "\n",
      "    2016  2017  2018\n",
      "대전  1000  1001  1002\n",
      "서울  1003  1004  1005\n"
     ]
    }
   ],
   "source": [
    "#행과 열의 변환\n",
    "#stack(): 열을 행으로 변경하는 함수\n",
    "#unstack(): 행을 열로 변경하는 함수\n",
    "df = DataFrame(1000 + np.arange(6).reshape(2,3), index = [\"대전\", \"서울\"],\\\n",
    "              columns = [\"2016\", \"2017\", \"2018\"])\n",
    "print(df)\n",
    "\n",
    "print()\n",
    "df_row = df.stack()\n",
    "print(df_row)\n",
    "\n",
    "print()\n",
    "df_col = df_row.unstack() \n",
    "print(df_col) # 원래의 형태로 돌아왔다."
   ]
  },
  {
   "cell_type": "code",
   "execution_count": 20,
   "metadata": {},
   "outputs": [
    {
     "name": "stdout",
     "output_type": "stream",
     "text": [
      "  data1  data2\n",
      "0     a      1\n",
      "1     a      1\n",
      "2     a      2\n",
      "3     a      2\n",
      "  data1  data2\n",
      "0     a      1\n",
      "2     a      2\n"
     ]
    }
   ],
   "source": [
    "#중복자료 처리\n",
    "data = {\"data1\":[\"a\"] * 4, \"data2\":[1,1,2,2]}\n",
    "df2 = DataFrame(data)\n",
    "print(df2)\n",
    "print(df2.drop_duplicates())"
   ]
  },
  {
   "cell_type": "code",
   "execution_count": 21,
   "metadata": {},
   "outputs": [
    {
     "name": "stdout",
     "output_type": "stream",
     "text": [
      "[(9, 11], (3, 7], (7, 9], (3, 7]]\n",
      "Categories (3, interval[int64]): [(3, 7] < (7, 9] < (9, 11]]\n",
      "\n",
      "(3, 7]     2\n",
      "(9, 11]    1\n",
      "(7, 9]     1\n",
      "dtype: int64\n"
     ]
    }
   ],
   "source": [
    "#범주화: 구간 설정\n",
    "# 범주화 (구간 설정)\n",
    "price = [10.3, 5.5, 7.8, 3.6]\n",
    "cut = [3, 7, 9, 11] # 구간 설정\n",
    "result_cut = pd.cut(price, cut)\n",
    "print(result_cut)\n",
    "\n",
    "print()\n",
    "count = pd.value_counts(result_cut)\n",
    "print(count)"
   ]
  },
  {
   "cell_type": "code",
   "execution_count": 22,
   "metadata": {},
   "outputs": [
    {
     "name": "stdout",
     "output_type": "stream",
     "text": [
      "   data1 key\n",
      "0      0   b\n",
      "1      1   b\n",
      "2      2   a\n",
      "3      3   c\n",
      "4      4   a\n",
      "5      5   a\n",
      "6      6   b\n",
      "  key  data2\n",
      "0   a      0\n",
      "1   b      1\n",
      "2   d      2\n",
      "\n",
      "   data1 key  data2\n",
      "0      0   b      1\n",
      "1      1   b      1\n",
      "2      6   b      1\n",
      "3      2   a      0\n",
      "4      4   a      0\n",
      "5      5   a      0\n",
      "   data1 key  data2\n",
      "0      0   b      1\n",
      "1      1   b      1\n",
      "2      6   b      1\n",
      "3      2   a      0\n",
      "4      4   a      0\n",
      "5      5   a      0\n"
     ]
    }
   ],
   "source": [
    "#자료 합치기\n",
    "df1 = DataFrame({\"data1\":range(7), \"key\":[\"b\",\"b\",\"a\",\"c\",\"a\",\"a\",\"b\"]})\n",
    "print(df1)\n",
    "df2 = DataFrame({\"key\":[\"a\",\"b\",\"d\"], \"data2\": range(3)})\n",
    "print(df2)\n",
    "\n",
    "print()\n",
    "print(pd.merge(df1, df2))\n",
    "print(pd.merge(df1, df2, on=\"key\")) #inner join: 교집합"
   ]
  },
  {
   "cell_type": "code",
   "execution_count": 23,
   "metadata": {},
   "outputs": [
    {
     "name": "stdout",
     "output_type": "stream",
     "text": [
      "   data1 key  data2\n",
      "0      0   b      1\n",
      "1      1   b      1\n",
      "2      6   b      1\n",
      "3      2   a      0\n",
      "4      4   a      0\n",
      "5      5   a      0\n",
      "   data1 key  data2\n",
      "0    0.0   b    1.0\n",
      "1    1.0   b    1.0\n",
      "2    6.0   b    1.0\n",
      "3    2.0   a    0.0\n",
      "4    4.0   a    0.0\n",
      "5    5.0   a    0.0\n",
      "6    3.0   c    NaN\n",
      "7    NaN   d    2.0\n",
      "\n",
      "   data1 key  data2\n",
      "0      0   b    1.0\n",
      "1      1   b    1.0\n",
      "2      2   a    0.0\n",
      "3      3   c    NaN\n",
      "4      4   a    0.0\n",
      "5      5   a    0.0\n",
      "6      6   b    1.0\n",
      "   data1 key  data2\n",
      "0    0.0   b      1\n",
      "1    1.0   b      1\n",
      "2    6.0   b      1\n",
      "3    2.0   a      0\n",
      "4    4.0   a      0\n",
      "5    5.0   a      0\n",
      "6    NaN   d      2\n"
     ]
    }
   ],
   "source": [
    "print(pd.merge(df1, df2, on=\"key\", how = \"inner\"))\n",
    "print(pd.merge(df1, df2, on=\"key\", how = \"outer\"))\n",
    "\n",
    "print()\n",
    "print(pd.merge(df1, df2, on=\"key\", how = \"left\"))\n",
    "print(pd.merge(df1, df2, on=\"key\", how = \"right\"))"
   ]
  },
  {
   "cell_type": "code",
   "execution_count": 24,
   "metadata": {},
   "outputs": [
    {
     "name": "stdout",
     "output_type": "stream",
     "text": [
      "  key1 key2     data1     data2\n",
      "0    a  one  1.178993  1.096159\n",
      "1    a  two  0.545936 -0.355670\n",
      "2    b  one  0.825063  1.298997\n",
      "3    b  two -1.775862 -1.514613\n",
      "4    a  one  0.575223  1.599840\n",
      "<pandas.core.groupby.generic.SeriesGroupBy object at 0x000002296F5305F8>\n",
      "\n",
      "key1\n",
      "a    2.300152\n",
      "b   -0.950799\n",
      "Name: data1, dtype: float64\n",
      "key1\n",
      "a    0.766717\n",
      "b   -0.475400\n",
      "Name: data1, dtype: float64\n",
      "\n",
      "key1  key2\n",
      "a     one     0.877108\n",
      "      two     0.545936\n",
      "b     one     0.825063\n",
      "      two    -1.775862\n",
      "Name: data1, dtype: float64\n",
      "\n",
      "key2       one       two\n",
      "key1                    \n",
      "a     0.877108  0.545936\n",
      "b     0.825063 -1.775862\n"
     ]
    }
   ],
   "source": [
    "#group by\n",
    "df = DataFrame({\"key1\":[\"a\",\"a\",\"b\",\"b\",\"a\"],\\\n",
    "               \"key2\":[\"one\", \"two\", \"one\", \"two\", \"one\"],\n",
    "               \"data1\":np.random.randn(5),\n",
    "               \"data2\":np.random.randn(5)})\n",
    "print(df)\n",
    "\n",
    "gr = df[\"data1\"].groupby(df[\"key1\"])\n",
    "print(gr)\n",
    "\n",
    "print()\n",
    "print(gr.sum())\n",
    "print(gr.mean())\n",
    "\n",
    "print()\n",
    "gr_means = df[\"data1\"].groupby([df[\"key1\"],df[\"key2\"]]).mean()\n",
    "print(gr_means)\n",
    "\n",
    "print()\n",
    "print(gr_means.unstack())"
   ]
  },
  {
   "cell_type": "code",
   "execution_count": 25,
   "metadata": {},
   "outputs": [
    {
     "name": "stdout",
     "output_type": "stream",
     "text": [
      "  city  year  pop\n",
      "0   강남  2000  3.3\n",
      "1   강북  2001  2.5\n",
      "2   강남  2002  3.0\n",
      "3   강북  2002  2.0\n"
     ]
    }
   ],
   "source": [
    "#pivot\n",
    "#데이터프레임 열 중에서 두 개의 key를 이용하여 데이터를 선택 출력하기\n",
    "data = {\"city\":[\"강남\",\"강북\",\"강남\",\"강북\"],\n",
    "       \"year\":[2000,2001,2002,2002],\n",
    "       \"pop\":[3.3, 2.5, 3.0, 2.0]}\n",
    "df = pd.DataFrame(data)\n",
    "print(df)"
   ]
  },
  {
   "cell_type": "code",
   "execution_count": 26,
   "metadata": {},
   "outputs": [
    {
     "name": "stdout",
     "output_type": "stream",
     "text": [
      "  city  year  pop\n",
      "0   강남  2000  3.3\n",
      "1   강북  2001  2.5\n",
      "2   강남  2002  3.0\n",
      "3   강북  2002  2.0\n",
      "\n",
      "       pop    year\n",
      "city              \n",
      "강남    3.15  2001.0\n",
      "강북    2.25  2001.5\n",
      "\n",
      "       pop    year\n",
      "city              \n",
      "강남    3.15  2001.0\n",
      "강북    2.25  2001.5\n",
      "\n",
      "           len  sum\n",
      "           pop  pop\n",
      "city year          \n",
      "강남   2000  1.0  3.3\n",
      "     2002  1.0  3.0\n",
      "강북   2001  1.0  2.5\n",
      "     2002  1.0  2.0\n",
      "\n",
      "       pop\n",
      "city      \n",
      "강남    3.15\n",
      "강북    2.25\n",
      "\n",
      "      len\n",
      "      pop\n",
      "city     \n",
      "강남    2.0\n",
      "강북    2.0\n",
      "\n",
      "      pop     \n",
      "city   강남   강북\n",
      "year          \n",
      "2000  3.3  NaN\n",
      "2001  NaN  2.5\n",
      "2002  3.0  2.0\n",
      "       pop           \n",
      "city    강남    강북  All\n",
      "year                 \n",
      "2000  3.30   NaN  3.3\n",
      "2001   NaN  2.50  2.5\n",
      "2002  3.00  2.00  2.5\n",
      "All   3.15  2.25  2.7\n",
      "\n",
      "       pop           \n",
      "city    강남    강북  All\n",
      "year                 \n",
      "2000  3.30  0.00  3.3\n",
      "2001  0.00  2.50  2.5\n",
      "2002  3.00  2.00  2.5\n",
      "All   3.15  2.25  2.7\n",
      "\n",
      "      year  pop\n",
      "city           \n",
      "강남    4002  6.3\n",
      "강북    4003  4.5\n",
      "\n",
      "           pop\n",
      "city year     \n",
      "강남   2000  3.3\n",
      "     2002  3.0\n",
      "강북   2001  2.5\n",
      "     2002  2.0\n"
     ]
    }
   ],
   "source": [
    "#pivot table: pivot과 group by의 성질을 적절하게 융합시킨 형태\n",
    "print(df)\n",
    "\n",
    "print()\n",
    "print(df.pivot_table(index=[\"city\"]))\n",
    "\n",
    "print()\n",
    "print(df.pivot_table(index=[\"city\"], aggfunc = np.mean))\n",
    "# aggfunc = np.mean -> 디폴트 설정\n",
    "\n",
    "print()\n",
    "print(df.pivot_table(index=[\"city\",\"year\"], aggfunc = [len, np.sum]))\n",
    "# city, year 별로 갯수와 합이 나온다.\n",
    "\n",
    "print()\n",
    "print(df.pivot_table([\"pop\"], index=[\"city\"]))\n",
    "# 연산대상: \"pop\"\n",
    "\n",
    "print()\n",
    "print(df.pivot_table([\"pop\"], index=[\"city\"], aggfunc = [len]))\n",
    "\n",
    "print()\n",
    "print(df.pivot_table([\"pop\"], index=\"year\", columns = [\"city\"]))\n",
    "print(df.pivot_table([\"pop\"], index=[\"year\"], columns = [\"city\"], margins=True))\n",
    "\n",
    "print()\n",
    "print(df.pivot_table([\"pop\"], index=[\"year\"],\\\n",
    "                     columns = [\"city\"], margins=True, fill_value=0))\n",
    "\n",
    "print()\n",
    "print(df.groupby([\"city\"]).sum())\n",
    "\n",
    "print()\n",
    "print(df.groupby([\"city\", \"year\"]).sum())"
   ]
  },
  {
   "cell_type": "code",
   "execution_count": null,
   "metadata": {},
   "outputs": [],
   "source": []
  }
 ],
 "metadata": {
  "kernelspec": {
   "display_name": "Python 3",
   "language": "python",
   "name": "python3"
  },
  "language_info": {
   "codemirror_mode": {
    "name": "ipython",
    "version": 3
   },
   "file_extension": ".py",
   "mimetype": "text/x-python",
   "name": "python",
   "nbconvert_exporter": "python",
   "pygments_lexer": "ipython3",
   "version": "3.7.3"
  }
 },
 "nbformat": 4,
 "nbformat_minor": 2
}
