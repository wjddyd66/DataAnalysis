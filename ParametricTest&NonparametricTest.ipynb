{
 "cells": [
  {
   "cell_type": "code",
   "execution_count": 1,
   "metadata": {},
   "outputs": [],
   "source": [
    "import numpy as np\n",
    "import scipy.stats as stats\n",
    "import matplotlib.pylab as plt\n",
    "import seaborn as sns\n",
    "import pandas as pd"
   ]
  },
  {
   "cell_type": "code",
   "execution_count": 2,
   "metadata": {},
   "outputs": [
    {
     "name": "stdout",
     "output_type": "stream",
     "text": [
      "one_sample 평균:  177.21999999999997\n",
      "result1 결과) statistic: 0.100, pvalue: 0.925\n",
      "result2 결과) statistic: 4.664, pvalue: 0.010\n"
     ]
    }
   ],
   "source": [
    "#One-Sample T-test\n",
    "#귀무가설: 모수와 같다.\n",
    "#대립가설: 모수와 다르다.\n",
    "\n",
    "#예1) 어느 남성 집단의 평균 키 검정하기\n",
    "\n",
    "one_sample = [177.0, 182.7, 169.6, 176.8, 180.0]\n",
    "print(\"one_sample 평균: \", np.array(one_sample).mean())\n",
    "\n",
    "'''\n",
    "귀무: 어느 남성 집단의 평균 키는 177이다. (모수)\n",
    "대립: 어느 남성 집단의 평균 키는 177 이 아니다. \n",
    "'''\n",
    "result1 = stats.ttest_1samp(one_sample, popmean=177)\n",
    "# popmean=177 -> 예상평균 값\n",
    "\n",
    "'''\n",
    "귀무: 어느 남성 집단의 평균 키는 167이다. (모수)\n",
    "대립: 어느 남성 집단의 평균 키는 167 이 아니다. \n",
    "'''\n",
    "result2 = stats.ttest_1samp(one_sample, popmean=167)\n",
    "# popmean=167 -> 예상평균 값\n",
    "\n",
    "print(\"result1 결과) statistic: %.3f, pvalue: %.3f\"%result1)\n",
    "# pvalue: 0.925 > 0.05 이므로 귀무 채택 -> 177이 맞다!\n",
    "print(\"result2 결과) statistic: %.3f, pvalue: %.3f\"%result2)\n",
    "# pvalue: 0.010 < 0.05 이므로 대립 채택 -> 167이 아니다!"
   ]
  },
  {
   "cell_type": "code",
   "execution_count": 3,
   "metadata": {},
   "outputs": [
    {
     "name": "stdout",
     "output_type": "stream",
     "text": [
      "[-1.0856306   0.99734545  0.2829785  -1.50629471 -0.57860025  1.65143654\n",
      " -2.42667924 -0.42891263  1.26593626 -0.8667404 ]\n"
     ]
    },
    {
     "data": {
      "image/png": "[encoded data removed]",
      "text/plain": [
       "<Figure size 432x288 with 1 Axes>"
      ]
     },
     "metadata": {
      "needs_background": "light"
     },
     "output_type": "display_data"
    },
    {
     "name": "stdout",
     "output_type": "stream",
     "text": [
      "result3의 결과)  Ttest_1sampResult(statistic=-0.6540040368674593, pvalue=0.5294637946339893)\n",
      "result4의 결과)  Ttest_1sampResult(statistic=-2.3526142804366375, pvalue=0.043120011586159794)\n"
     ]
    }
   ],
   "source": [
    "#예2) 한 집단의 평균 검정\n",
    "np.random.seed(123)\n",
    "mu = 0 \n",
    "n = 10\n",
    "\n",
    "x = stats.norm(mu).rvs(n)\n",
    "# 정규분포를 따르는 난수 10개가 생성된다.\n",
    "print(x)\n",
    "sns.distplot(x, kde = False, fit = stats.norm)\n",
    "plt.show()\n",
    "\n",
    "'''\n",
    "귀무: 모수의 평균은 0이다.\n",
    "대립: 모수의 평균은 0이 아니다. \n",
    "'''\n",
    "result3 = stats.ttest_1samp(x, popmean = 0)\n",
    "print(\"result3의 결과) \",result3)\n",
    "#  pvalue=0.529 > 0.05 이므로 귀무 채택\n",
    "\n",
    "'''\n",
    "귀무: 모수의 평균은 0.7이다.\n",
    "대립: 모수의 평균은 0.7이 아니다. \n",
    "'''\n",
    "result4 = stats.ttest_1samp(x, popmean = 0.7)\n",
    "print(\"result4의 결과) \",result4)\n",
    "#  pvalue=0.043 < 0.05 이므로 대립 채택"
   ]
  },
  {
   "cell_type": "code",
   "execution_count": 4,
   "metadata": {},
   "outputs": [
    {
     "name": "stdout",
     "output_type": "stream",
     "text": [
      "    이름  국어  영어  수학\n",
      "0  박치기  90  85  55\n",
      "1  홍길동  70  65  80\n",
      "2  김치국  92  95  76\n",
      "3  임꺽정  76  89  88\n",
      "4  신선해  97  87  83\n",
      "result5 결과) statistic: -1.332, pvalue: 0.199\n"
     ]
    }
   ],
   "source": [
    "#예3) 어느 학생 집단의 평균 국어점수 검정하기\n",
    "data = pd.read_csv(\"https://raw.githubusercontent.com/wjddyd66/R/master/Data/student.csv\")\n",
    "print(data.head(5))\n",
    "\n",
    "'''\n",
    "귀무: 학생들의 국어 점수 평균은 80이다.\n",
    "대립: 학생들의 국어 점수 평균은 80이아니다.\n",
    "'''\n",
    "result5 = stats.ttest_1samp(data[\"국어\"], popmean=80)\n",
    "print(\"result5 결과) statistic: %.3f, pvalue: %.3f\"%result5)\n",
    "#  pvalue=0.199 > 0.05 이므로 귀무 채택"
   ]
  },
  {
   "cell_type": "code",
   "execution_count": 13,
   "metadata": {},
   "outputs": [
    {
     "name": "stdout",
     "output_type": "stream",
     "text": [
      "Ttest_indResult(statistic=1.233193127514512, pvalue=0.2525076844853278)\n",
      "83.8\n",
      "72.24\n"
     ]
    }
   ],
   "source": [
    "#independent samples t-test\n",
    "#예1) 남녀 집단 간 파이썬 시험의 평균 차이 검정\n",
    "\n",
    "'''\n",
    "귀무: 남녀 두 집단 간 파이썬 시험의 평균에 차이가 없다.\n",
    "대립: 남녀 두 집단 간 파이썬 시험의 평균에 차이가 있다.\n",
    "'''\n",
    "male = [75, 85, 100, 72.5, 86.5]\n",
    "female = [63.2, 76, 52, 100, 70]\n",
    "\n",
    "two_sample = stats.ttest_ind(male, female)\n",
    "print(two_sample)\n",
    "#  pvalue=0.25 > 0.05 이므로 귀무 채택\n",
    "print(np.mean(male))\n",
    "print(np.mean(female))"
   ]
  },
  {
   "cell_type": "code",
   "execution_count": 41,
   "metadata": {},
   "outputs": [
    {
     "name": "stdout",
     "output_type": "stream",
     "text": [
      "   no  gender  method  survey  score\n",
      "0   1       1       1       1    5.1\n",
      "1   2       1       2       0    NaN\n",
      "   method  score\n",
      "0       1    5.1\n",
      "1       2    NaN\n",
      "2       1    4.7\n",
      "3       2    NaN\n",
      "4       1    5.4\n",
      "0     5.1\n",
      "2     4.7\n",
      "4     5.4\n",
      "7     5.2\n",
      "10    5.7\n",
      "14    5.1\n",
      "15    4.8\n",
      "16    4.1\n",
      "17    4.8\n",
      "18    5.2\n",
      "19    4.7\n",
      "20    4.4\n",
      "21    5.2\n",
      "22    5.3\n",
      "23    6.1\n",
      "24    6.3\n",
      "25    4.1\n",
      "26    5.3\n",
      "27    5.1\n",
      "28    3.8\n",
      "29    5.6\n",
      "30    5.3\n",
      "31    6.4\n",
      "32    5.5\n",
      "33    4.7\n",
      "37    5.6\n",
      "38    6.2\n",
      "39    5.9\n",
      "40    3.4\n",
      "42    6.4\n",
      "44    5.2\n",
      "46    5.8\n",
      "49    5.2\n",
      "Name: score, dtype: float64\n"
     ]
    },
    {
     "data": {
      "image/png": "[encoded data removed]",
      "text/plain": [
       "<Figure size 432x288 with 1 Axes>"
      ]
     },
     "metadata": {
      "needs_background": "light"
     },
     "output_type": "display_data"
    },
    {
     "data": {
      "image/png": "[encoded data removed]",
      "text/plain": [
       "<Figure size 432x288 with 1 Axes>"
      ]
     },
     "metadata": {
      "needs_background": "light"
     },
     "output_type": "display_data"
    },
    {
     "name": "stdout",
     "output_type": "stream",
     "text": [
      "(0.965552806854248, 0.3679903745651245)\n",
      "(0.9621098637580872, 0.6714189648628235)\n",
      "t 검정 통계량: -0.19649, p값: 0.84505\n",
      "KruskalResult(statistic=0.15994494025967548, pvalue=0.6892072139847867)\n",
      "MannwhitneyuResult(statistic=261.0, pvalue=0.3483878790262923)\n",
      "WilcoxonResult(statistic=66.5, pvalue=0.6358467122075273)\n"
     ]
    }
   ],
   "source": [
    "#예2) 두 가지 교육방법에 따른 평균시험 점수에 대한 검정 수행\n",
    "\n",
    "'''\n",
    "귀무: 교육방법에 따른 시험점수는 차이가 없다.\n",
    "대립: 교육방법에 따른 시험점수는 차이가 있다.\n",
    "'''\n",
    "data = pd.read_csv(\"https://raw.githubusercontent.com/wjddyd66/R/master/Data/two_sample.csv\")\n",
    "print(data.head(2))\n",
    "\n",
    "result = data[[\"method\", \"score\"]]\n",
    "print(result.head())\n",
    "\n",
    "m1 = result[result[\"method\"]==1]\n",
    "m2 = result[result[\"method\"]==2]\n",
    "\n",
    "score1 = m1[\"score\"]\n",
    "score2 = m2[\"score\"]\n",
    "\n",
    "sco1 = score1.fillna(score1.mean())\n",
    "sco2 = score2.fillna(score2.mean())\n",
    "print(sco1)\n",
    "\n",
    "sns.distplot(sco1, fit=stats.norm)\n",
    "plt.show()\n",
    "sns.distplot(sco2, fit=stats.norm)\n",
    "plt.show()\n",
    "\n",
    "print(stats.shapiro(sco1)) # 0.36 > 0.05\n",
    "print(stats.shapiro(sco2)) # 0.67 > 0.05\n",
    "\n",
    "\n",
    "result = stats.ttest_ind(sco1, sco2)\n",
    "print(\"t 검정 통계량: %.5f, p값: %.5f\"%result)\n",
    "# pvalue=0.84 > 0.05 귀무 채택"
   ]
  },
  {
   "cell_type": "code",
   "execution_count": 42,
   "metadata": {},
   "outputs": [
    {
     "name": "stdout",
     "output_type": "stream",
     "text": [
      "Ttest_relResult(statistic=3.6681166519351103, pvalue=0.006326650855933662)\n"
     ]
    }
   ],
   "source": [
    "#paired samples t-test\n",
    "#동일한 관찰대상으로부터 처리 이전과 이후를 1:1로 대응시킨 두 집단 표본을 이용해 t 검정을 실시한다.\n",
    "\n",
    "'''\n",
    "예)복부 수술 전 9명의 몸무게와 복부 수술 후 몸무게 변화\n",
    "귀무: 변화에 차이가 없다.\n",
    "대립: 변화에 차이가 있다.\n",
    "'''\n",
    "baseline = [67.2, 67.4, 71.5, 77.6, 86.0, 89.1, 59.5, 81.9, 105.5]\n",
    "follow_up = [62.4, 64.6, 70.4, 62.6, 80.1, 73.2, 58.2, 71.0, 101.0]\n",
    "paired_result = stats.ttest_rel(baseline, follow_up)\n",
    "print(paired_result) \n",
    "# pvalue=0.00632 < 0.05 대립 채택"
   ]
  },
  {
   "cell_type": "code",
   "execution_count": 45,
   "metadata": {},
   "outputs": [
    {
     "name": "stdout",
     "output_type": "stream",
     "text": [
      "[2.01007563]\n",
      "[0.04442318]\n"
     ]
    }
   ],
   "source": [
    "#동일성 검정\n",
    "#One - Sample\n",
    "'''\n",
    "귀무: 회사 흡연율과 국민 흡연율이 같다.\n",
    "대립: 회사 흡연율과 국민 흡연율이 다르다.\n",
    "'''\n",
    "from statsmodels.stats.proportion import proportions_ztest\n",
    "\n",
    "count = np.array([45])\n",
    "nobs = np.array([100])\n",
    "val = 0.35\n",
    "z, p = proportions_ztest(count=count, nobs=nobs, value=val)\n",
    "print(z)\n",
    "print(p)\n",
    "#pvalue=0.044 < 0.05 대립 채택"
   ]
  },
  {
   "cell_type": "code",
   "execution_count": 46,
   "metadata": {},
   "outputs": [
    {
     "name": "stdout",
     "output_type": "stream",
     "text": [
      "-2.4656701201792273\n",
      "0.013675721698622408\n"
     ]
    }
   ],
   "source": [
    "#Two - Sample\n",
    "'''\n",
    "kic 직원 300명 중 100명이 햄버거를 먹었고, \n",
    "kbs 직원 200명 중 170명이 햄버거를 먹었다.\n",
    "두 집단의 햄버거를 먹은 비율의 동일 여부를 검정하시오.\n",
    "\n",
    "귀무: 비율이 같다.\n",
    "대립: 비율이 다르다.\n",
    "'''\n",
    "count = np.array([100, 170])\n",
    "nobs = np.array([300, 400])\n",
    "z, p = proportions_ztest(count=count, nobs=nobs, value=0)\n",
    "print(z)\n",
    "print(p)\n",
    "#pvalue=0.013 < 0.05 대립 채택"
   ]
  },
  {
   "cell_type": "code",
   "execution_count": 57,
   "metadata": {},
   "outputs": [
    {
     "name": "stdout",
     "output_type": "stream",
     "text": [
      "   no  method  survey  score\n",
      "0   1       1       1     72\n",
      "1   2       3       1     87\n",
      "2   3       2       1     78\n",
      "80\n",
      "            no     method     survey       score\n",
      "count  80.0000  80.000000  80.000000   80.000000\n",
      "mean   40.5000   1.962500   0.650000   78.212500\n",
      "std    23.2379   0.802587   0.479979   64.886404\n",
      "min     1.0000   1.000000   0.000000   33.000000\n",
      "25%    20.7500   1.000000   0.000000   58.000000\n",
      "50%    40.5000   2.000000   1.000000   65.000000\n",
      "75%    60.2500   3.000000   1.000000   79.500000\n",
      "max    80.0000   3.000000   1.000000  500.000000\n"
     ]
    },
    {
     "data": {
      "image/png": "[encoded data removed]",
      "text/plain": [
       "<Figure size 432x288 with 2 Axes>"
      ]
     },
     "metadata": {
      "needs_background": "light"
     },
     "output_type": "display_data"
    }
   ],
   "source": [
    "#ANOVA: 세 집단 이상의 평균차이 검정\n",
    "#종속변수의 분산과 독립변수의 분산간의 관계를 사용하여 \n",
    "#선형회귀 분석의 성능평가 모형으로 사용 가능\n",
    "\n",
    "'''\n",
    "예) 세 가지 교육방법을 적용하여 1개월 동안 교육받은 교육생 80명을 대상으로 실기시험을 실시한다.\n",
    "귀무: 교육방법(세 집단)에 따른 시험점수 차이가 없다.\n",
    "대립: 교육방법(세 집단)에 따른 시험점수 차이가 있다.\n",
    "'''\n",
    "\n",
    "url = \"https://raw.githubusercontent.com/wjddyd66/R/master/Data/three_sample.csv\"\n",
    "data = pd.read_csv(url)\n",
    "print(data.head(3))\n",
    "print(len(data)) # 80\n",
    "print(data.describe()) # outlier 발견\n",
    "\n",
    "plt.grid()\n",
    "plt.subplot(121)\n",
    "plt.boxplot(data.score)\n",
    "plt.subplot(122)\n",
    "plt.hist(data.score)\n",
    "plt.ylim(0,100)\n",
    "plt.show()"
   ]
  },
  {
   "cell_type": "code",
   "execution_count": 58,
   "metadata": {},
   "outputs": [
    {
     "name": "stdout",
     "output_type": "stream",
     "text": [
      "78\n"
     ]
    },
    {
     "data": {
      "image/png": "[encoded data removed]",
      "text/plain": [
       "<Figure size 432x288 with 1 Axes>"
      ]
     },
     "metadata": {
      "needs_background": "light"
     },
     "output_type": "display_data"
    },
    {
     "name": "stdout",
     "output_type": "stream",
     "text": [
      "(0.9810646176338196, 0.2986918091773987)\n"
     ]
    }
   ],
   "source": [
    "#Outlier제거\n",
    "data = data.query(\"score <= 100\")\n",
    "print(len(data)) # 78\n",
    "plt.hist(data.score)\n",
    "plt.show()\n",
    "print(stats.shapiro(data.score))\n",
    "#pvalue 0.2986918091773987>0.05 정규성 만족"
   ]
  },
  {
   "cell_type": "code",
   "execution_count": 63,
   "metadata": {},
   "outputs": [
    {
     "name": "stdout",
     "output_type": "stream",
     "text": [
      "data2: \n",
      " col_0  count\n",
      "방법1       26\n",
      "방법2       28\n",
      "방법3       24\n",
      "data3: \n",
      "      만족  불만족\n",
      "방법1   9   17\n",
      "방법2  10   18\n",
      "방법3   8   16\n",
      "------------------------------\n",
      "                  df        sum_sq     mean_sq         F    PR(>F)\n",
      "data['method']   1.0     27.980888   27.980888  0.122228  0.727597\n",
      "Residual        76.0  17398.134497  228.922822       NaN       NaN\n"
     ]
    }
   ],
   "source": [
    "# 교차표\n",
    "data2 = pd.crosstab(index = data[\"method\"], columns = \"count\")\n",
    "data2.index = [\"방법1\", \"방법2\", \"방법3\"]\n",
    "print(\"data2: \\n\", data2)\n",
    "\n",
    "# 교차표: 교육방법 별 만족여부 건 수\n",
    "data3 = pd.crosstab(index = data[\"method\"], columns = data[\"survey\"])\n",
    "data3.index = [\"방법1\", \"방법2\", \"방법3\"]\n",
    "data3.columns = [\"만족\", \"불만족\"]\n",
    "print(\"data3: \\n\", data3)\n",
    "\n",
    "print(\"-\"*30)\n",
    "\n",
    "import statsmodels.formula.api as smf\n",
    "reg = smf.ols(\"data['score'] ~ data['method']\", data=data).fit()\n",
    "#단일회귀 모델\n",
    "\n",
    "table = sm.stats.anova_lm(reg, type=2)\n",
    "print(table)"
   ]
  },
  {
   "cell_type": "code",
   "execution_count": 67,
   "metadata": {},
   "outputs": [
    {
     "name": "stdout",
     "output_type": "stream",
     "text": [
      "   time  gender  weight  minutes\n",
      "0     5       1    3837        5\n",
      "1   104       1    3334       64\n",
      "2   118       2    3554       78\n",
      "3   155       2    3838      115\n",
      "4   257       2    3625      177\n",
      "              time     gender       weight      minutes\n",
      "count    44.000000  44.000000    44.000000    44.000000\n",
      "mean   1296.000000   1.590909  3275.954545   788.727273\n",
      "std     690.704561   0.497350   528.032458   416.066931\n",
      "min       5.000000   1.000000  1745.000000     5.000000\n",
      "25%     792.750000   1.000000  3141.500000   482.750000\n",
      "50%    1406.500000   2.000000  3404.000000   846.500000\n",
      "75%    1918.500000   2.000000  3571.750000  1158.500000\n",
      "max    2355.000000   2.000000  4162.000000  1435.000000\n",
      "    time  gender  weight  minutes\n",
      "0      5       1    3837        5\n",
      "1    104       1    3334       64\n",
      "5    405       1    2208      245\n",
      "6    407       1    1745      247\n",
      "12   814       1    2576      494\n",
      "정규성 확인: (0.8702831864356995, 0.017984945327043533)\n"
     ]
    },
    {
     "data": {
      "image/png": "[encoded data removed]",
      "text/plain": [
       "<Figure size 432x288 with 1 Axes>"
      ]
     },
     "metadata": {
      "needs_background": "light"
     },
     "output_type": "display_data"
    },
    {
     "name": "stdout",
     "output_type": "stream",
     "text": [
      "result6 결과) statistic: 37.000, pvalue: 0.035\n",
      "평균:  3132.4444444444443\n"
     ]
    }
   ],
   "source": [
    "#비모수 검정\n",
    "\n",
    "#예) 여아 신생아 몸무게의 평균 검정 수행\n",
    "data = pd.read_csv(\"https://raw.githubusercontent.com/wjddyd66/R/master/Data/babyboom.csv\")\n",
    "print(data.head(5))\n",
    "print(data.describe())\n",
    "\n",
    "girl_data = data[data[\"gender\"]==1]\n",
    "print(girl_data.head(5))\n",
    "\n",
    "# 정규성 확인\n",
    "print(\"정규성 확인:\", stats.shapiro(girl_data.iloc[:, 2])) \n",
    "#0.017 < 0.05 이므로 정규성을 띄지 않고 있다.\n",
    "\n",
    "\n",
    "sns.distplot(girl_data.iloc[:, 2], fit = stats.norm)\n",
    "plt.show() # QQ-plot\n",
    "\n",
    "'''\n",
    "귀무: 여신생아의 몸무게 평균은 2800g이다.\n",
    "대립: 여신생아의 몸무게 평균은 2800g이 아니다.\n",
    "'''\n",
    "result6 = stats.wilcoxon(girl_data[\"weight\"]-2800)\n",
    "print(\"result6 결과) statistic: %.3f, pvalue: %.3f\"%result6)\n",
    "#  pvalue=0.035 < 0.05 이므로 대립 채택\n",
    "print(\"평균: \", np.array(girl_data[\"weight\"]).mean())"
   ]
  }
 ],
 "metadata": {
  "kernelspec": {
   "display_name": "Python 3",
   "language": "python",
   "name": "python3"
  },
  "language_info": {
   "codemirror_mode": {
    "name": "ipython",
    "version": 3
   },
   "file_extension": ".py",
   "mimetype": "text/x-python",
   "name": "python",
   "nbconvert_exporter": "python",
   "pygments_lexer": "ipython3",
   "version": "3.7.3"
  }
 },
 "nbformat": 4,
 "nbformat_minor": 2
}
