{
 "cells": [
  {
   "cell_type": "code",
   "execution_count": 1,
   "metadata": {},
   "outputs": [
    {
     "name": "stdout",
     "output_type": "stream",
     "text": [
      "  name sex  age  grade absence bloodtype  height  weight\n",
      "0  김길동  남자   23      3       유         O   165.3    68.2\n",
      "1  이미린  여자   22      2       무        AB   170.1    53.0\n",
      "2  홍길동  남자   24      4       무         B   175.0    80.1\n",
      "(15, 8)\n",
      "<class 'pandas.core.frame.DataFrame'>\n",
      "RangeIndex: 15 entries, 0 to 14\n",
      "Data columns (total 8 columns):\n",
      "name         15 non-null object\n",
      "sex          15 non-null object\n",
      "age          15 non-null int64\n",
      "grade        15 non-null int64\n",
      "absence      15 non-null object\n",
      "bloodtype    15 non-null object\n",
      "height       15 non-null float64\n",
      "weight       15 non-null float64\n",
      "dtypes: float64(2), int64(2), object(4)\n",
      "memory usage: 1.1+ KB\n",
      "None\n",
      "             age      grade      height     weight\n",
      "count  15.000000  15.000000   15.000000  15.000000\n",
      "mean   22.333333   2.266667  170.186667  60.380000\n",
      "std     1.112697   1.032796    8.378533  12.408591\n",
      "min    20.000000   1.000000  155.200000  45.200000\n",
      "25%    22.000000   1.500000  163.750000  52.500000\n",
      "50%    22.000000   2.000000  170.100000  55.300000\n",
      "75%    23.000000   3.000000  176.500000  66.200000\n",
      "max    24.000000   4.000000  182.100000  85.700000\n",
      "-\n",
      "bloodtype\n",
      "A     3\n",
      "AB    3\n",
      "B     4\n",
      "O     5\n",
      "Name: bloodtype, dtype: int64\n",
      "col_0      count\n",
      "bloodtype       \n",
      "A              3\n",
      "AB             3\n",
      "B              4\n",
      "O              5\n",
      "-\n",
      "    남  여  행합\n",
      "A   1  2   3\n",
      "AB  2  1   3\n",
      "B   3  1   4\n",
      "O   2  3   5\n",
      "열합  8  7  15\n",
      "-\n",
      "           남         여        행합\n",
      "A   0.066667  0.133333  0.200000\n",
      "AB  0.133333  0.066667  0.200000\n",
      "B   0.200000  0.066667  0.266667\n",
      "O   0.133333  0.200000  0.333333\n",
      "열합  0.533333  0.466667  1.000000\n",
      "-\n",
      "        남         여        행합\n",
      "A   0.125  0.285714  0.200000\n",
      "AB  0.250  0.142857  0.200000\n",
      "B   0.375  0.142857  0.266667\n",
      "O   0.250  0.428571  0.333333\n",
      "열합  1.000  1.000000  1.000000\n",
      "           A        AB     B    O        열합\n",
      "남   0.333333  0.666667  0.75  0.4  0.533333\n",
      "여   0.666667  0.333333  0.25  0.6  0.466667\n",
      "행합  1.000000  1.000000  1.00  1.0  1.000000\n"
     ]
    }
   ],
   "source": [
    "# 도수분포표\n",
    "import pandas as pd\n",
    "from pandas import DataFrame\n",
    "\n",
    "url = \"https://raw.githubusercontent.com/wjddyd66/R/master/Data/ex_studentlist.csv\"\n",
    "frame = pd.read_csv(url)\n",
    "print(frame.head(3))\n",
    "print(frame.shape)\n",
    "print(frame.info())\n",
    "print(frame.describe())\n",
    "\n",
    "print(\"-\")\n",
    "# 혈액형 빈도수\n",
    "data1 = frame.groupby([\"bloodtype\"])[\"bloodtype\"].count()\n",
    "print(data1)\n",
    "data2 = pd.crosstab(index=frame[\"bloodtype\"], columns=[\"count\"])\n",
    "print(data2)\n",
    "\n",
    "print(\"-\")\n",
    "# 성별, 혈액형 빈도수 (2 way)\n",
    "data3 = pd.crosstab(index=frame[\"bloodtype\"], \n",
    "columns=frame[\"sex\"], margins=True)\n",
    "# margins=True -> 소계 출력\n",
    "data3.columns = [\"남\", \"여\", \"행합\"]\n",
    "data3.index = [\"A\", \"AB\", \"B\", \"O\",\"열합\"]\n",
    "print(data3)\n",
    "\n",
    "print(\"-\")\n",
    "print(data3 / data3.loc[\"열합\", \"행합\"])\n",
    "\n",
    "print(\"-\")\n",
    "# 행에 대한 열 비율\n",
    "print(data3 / data3.loc[\"열합\"])\n",
    "print(data3.T / data3[\"행합\"])"
   ]
  },
  {
   "cell_type": "code",
   "execution_count": 3,
   "metadata": {},
   "outputs": [
    {
     "name": "stdout",
     "output_type": "stream",
     "text": [
      "[ 4.24869073 -0.22351283 -0.0563435  -1.14593724  2.73081526 -3.60307739\n",
      "  4.48962353 -0.5224138   1.63807819  0.50125925]\n"
     ]
    },
    {
     "data": {
      "image/png": "[encoded data removed]",
      "text/plain": [
       "<Figure size 432x288 with 1 Axes>"
      ]
     },
     "metadata": {
      "needs_background": "light"
     },
     "output_type": "display_data"
    },
    {
     "name": "stdout",
     "output_type": "stream",
     "text": [
      "\n"
     ]
    },
    {
     "data": {
      "image/png": "[encoded data removed]",
      "text/plain": [
       "<Figure size 432x288 with 1 Axes>"
      ]
     },
     "metadata": {
      "needs_background": "light"
     },
     "output_type": "display_data"
    }
   ],
   "source": [
    "# 분산의 중요성\n",
    "import scipy.stats as stats\n",
    "import pandas as pd\n",
    "import matplotlib.pyplot as plt\n",
    "import numpy as np\n",
    "\n",
    "np.random.seed(1)\n",
    "print(stats.norm(loc=1, scale=2).rvs(10))\n",
    "\n",
    "center = [1, 1.5, 2]\n",
    "col = \"rgb\"\n",
    "\n",
    "std = 0.1 #표준편차\n",
    "data_1 = []\n",
    "for i in range(3):\n",
    "    data_1.append(stats.norm(center[i], std).rvs(100))\n",
    "    plt.plot(np.arange(len(data_1[i])) + len(data_1[0] * i),\n",
    "            data_1[i], \"*\", color = col[i])\n",
    "plt.show()\n",
    "\n",
    "print()\n",
    "std = 3 #표준편차\n",
    "data_2 = []\n",
    "for i in range(3):\n",
    "    data_2.append(stats.norm(center[i], std).rvs(100))\n",
    "    plt.plot(np.arange(len(data_2[i])) + len(data_2[0] * i),\n",
    "            data_2[i], \"*\", color = col[i])\n",
    "plt.show()\n",
    "# 표준편차의 차이가 클 수록 평균의 차이가 극명하게 나타난다."
   ]
  }
 ],
 "metadata": {
  "kernelspec": {
   "display_name": "Python 3",
   "language": "python",
   "name": "python3"
  },
  "language_info": {
   "codemirror_mode": {
    "name": "ipython",
    "version": 3
   },
   "file_extension": ".py",
   "mimetype": "text/x-python",
   "name": "python",
   "nbconvert_exporter": "python",
   "pygments_lexer": "ipython3",
   "version": "3.7.3"
  }
 },
 "nbformat": 4,
 "nbformat_minor": 2
}
