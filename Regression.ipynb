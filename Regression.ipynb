{
 "cells": [
  {
   "cell_type": "code",
   "execution_count": 1,
   "metadata": {},
   "outputs": [],
   "source": [
    "import numpy as np\n",
    "import matplotlib.pyplot as plt\n",
    "import pandas as pd\n",
    "import statsmodels.api as sm"
   ]
  },
  {
   "cell_type": "code",
   "execution_count": 2,
   "metadata": {},
   "outputs": [
    {
     "name": "stdout",
     "output_type": "stream",
     "text": [
      "Make Regression\n",
      "[[-0.67794537]\n",
      " [ 0.31866529]\n",
      " [ 0.13884618]\n",
      " [ 0.53513589]]\n",
      "[ 39.34130801 128.51235594 112.42316554 147.88091341]\n",
      "89.47430739278907\n",
      "[ -52.17214291   39.34130801  128.51235594  112.42316554  147.88091341\n",
      "   96.49178624  103.16885304   36.12820309   89.71761789  190.59412103\n",
      "  300.58509445  100.45874176    7.88349776   42.07157936  142.32007968\n",
      "   -8.72638684   77.28210847   65.60976235  147.18272498  142.27276227\n",
      "   18.23219105  144.90467678   39.0298914   -98.0364801    89.07073235\n",
      "   48.8313381   220.10640661   -3.28558253   47.63352619 -181.61291334\n",
      "  119.23482409  -50.47399897   27.79585534  208.24569942  198.05991459\n",
      "   46.51020834   10.77587732   52.72138937   89.24271248  106.55417864\n",
      "   90.52804266  167.38693344  121.69210605  -98.50187763  -59.98849467\n",
      "  356.95405132  219.52258382  -37.31812896  157.33165682   69.79389882]\n"
     ]
    },
    {
     "name": "stderr",
     "output_type": "stream",
     "text": [
      "C:\\Tensor\\envs\\tensorflow\\lib\\site-packages\\ipykernel_launcher.py:8: FutureWarning: Using a non-tuple sequence for multidimensional indexing is deprecated; use `arr[tuple(seq)]` instead of `arr[seq]`. In the future this will be interpreted as an array index, `arr[np.array(seq)]`, which will result either in an error or a different result.\n",
      "  \n",
      "C:\\Tensor\\envs\\tensorflow\\lib\\site-packages\\ipykernel_launcher.py:9: FutureWarning: Using a non-tuple sequence for multidimensional indexing is deprecated; use `arr[tuple(seq)]` instead of `arr[seq]`. In the future this will be interpreted as an array index, `arr[np.array(seq)]`, which will result either in an error or a different result.\n",
      "  if __name__ == '__main__':\n"
     ]
    }
   ],
   "source": [
    "#Make Regression\n",
    "print(\"Make Regression\")\n",
    "from sklearn.datasets import make_regression\n",
    "\n",
    "np.random.seed(12)\n",
    "x, y, coef = make_regression(n_samples = 50, n_features = 1, bias = 100, coef = True)\n",
    "# n_features : 독립변수. bias : 절편 (디폴트=0.0), coef : 기울기\n",
    "print(x[[range(1,5)]])\n",
    "print(y[[range(1,5)]])\n",
    "print(coef) \n",
    "# 표본데이터(x) 50개와 그에따른 y값 50개 반환되었다.\n",
    "y_pred  = 100 + 89.47430739278907 * -1.70073563\n",
    "# y_pred : 예측에 의한 y값\n",
    "#bias: 89.47430739278907\n",
    "#weight:-1.70073563\n",
    "print(y) \n",
    "# 수식에 의해 예측한 값 = -52.17214255248879\n",
    "# 실제값 = -52.17214291\n",
    "# make regression을 이용해 x를 입력하면 수식에 의해 예측된 y값을 도출해낼 수 있다.\n",
    "# 실제로 운영하기에는 현실적으로 다소 무리가 있다.\n",
    "# 있다는 것만 알고 넘어가자."
   ]
  },
  {
   "cell_type": "code",
   "execution_count": 3,
   "metadata": {},
   "outputs": [
    {
     "name": "stdout",
     "output_type": "stream",
     "text": [
      "LinearRegression(copy_X=True, fit_intercept=True, n_jobs=None, normalize=False)\n",
      "기울기:  [89.47430739]\n",
      "절편:  100.0\n",
      "[ -52.17214291   39.34130801  128.51235594  112.42316554  147.88091341\n",
      "   96.49178624  103.16885304   36.12820309   89.71761789  190.59412103\n",
      "  300.58509445  100.45874176    7.88349776   42.07157936  142.32007968\n",
      "   -8.72638684   77.28210847   65.60976235  147.18272498  142.27276227\n",
      "   18.23219105  144.90467678   39.0298914   -98.0364801    89.07073235\n",
      "   48.8313381   220.10640661   -3.28558253   47.63352619 -181.61291334\n",
      "  119.23482409  -50.47399897   27.79585534  208.24569942  198.05991459\n",
      "   46.51020834   10.77587732   52.72138937   89.24271248  106.55417864\n",
      "   90.52804266  167.38693344  121.69210605  -98.50187763  -59.98849467\n",
      "  356.95405132  219.52258382  -37.31812896  157.33165682   69.79389882]\n"
     ]
    }
   ],
   "source": [
    "#LinearRegression\n",
    "x1 = x\n",
    "y1 = y\n",
    "from sklearn.linear_model import LinearRegression\n",
    "model = LinearRegression(fit_intercept=True, n_jobs=None)\n",
    "#n_jobs: cpu에 따라 병렬로 처리할 수 있게 해주는 Option\n",
    "\n",
    "print(model)\n",
    "fit_model = model.fit(x1, y1)\n",
    "\n",
    "print(\"기울기: \", fit_model.coef_)\n",
    "print(\"절편: \", fit_model.intercept_)\n",
    "y_new = fit_model.predict(x1)\n",
    "print(y_new)"
   ]
  },
  {
   "cell_type": "code",
   "execution_count": 4,
   "metadata": {},
   "outputs": [
    {
     "name": "stdout",
     "output_type": "stream",
     "text": [
      "[[-0.5314769 ]\n",
      " [ 0.86721724]\n",
      " [-1.25494726]\n",
      " [ 0.93016889]\n",
      " [-1.63412849]]\n",
      "[ 52.44647266 177.59366163 -12.28553693 183.2262176  -46.21251453]\n"
     ]
    }
   ],
   "source": [
    "#Linear Regression을 활용하여 새로운 값 예측\n",
    "x_new, _, _ = make_regression(n_samples = 5, n_features = 1, bias = 100, coef = True)\n",
    "print(x_new)\n",
    "y_pred2 = fit_model.predict(x_new)\n",
    "print(y_pred2)"
   ]
  },
  {
   "cell_type": "code",
   "execution_count": 5,
   "metadata": {},
   "outputs": [
    {
     "name": "stdout",
     "output_type": "stream",
     "text": [
      "(50,)\n",
      "(50,)\n",
      "         x1          y1\n",
      "0 -1.700736  -52.172143\n",
      "1 -0.677945   39.341308\n",
      "2  0.318665  128.512356\n",
      "                            OLS Regression Results                            \n",
      "==============================================================================\n",
      "Dep. Variable:                     y1   R-squared:                       1.000\n",
      "Model:                            OLS   Adj. R-squared:                  1.000\n",
      "Method:                 Least Squares   F-statistic:                 1.905e+32\n",
      "Date:                Tue, 30 Jul 2019   Prob (F-statistic):               0.00\n",
      "Time:                        21:12:20   Log-Likelihood:                 1460.6\n",
      "No. Observations:                  50   AIC:                            -2917.\n",
      "Df Residuals:                      48   BIC:                            -2913.\n",
      "Df Model:                           1                                         \n",
      "Covariance Type:            nonrobust                                         \n",
      "==============================================================================\n",
      "                 coef    std err          t      P>|t|      [0.025      0.975]\n",
      "------------------------------------------------------------------------------\n",
      "Intercept    100.0000   7.33e-15   1.36e+16      0.000     100.000     100.000\n",
      "x1            89.4743   6.48e-15   1.38e+16      0.000      89.474      89.474\n",
      "==============================================================================\n",
      "Omnibus:                        7.616   Durbin-Watson:                   1.798\n",
      "Prob(Omnibus):                  0.022   Jarque-Bera (JB):                8.746\n",
      "Skew:                           0.516   Prob(JB):                       0.0126\n",
      "Kurtosis:                       4.770   Cond. No.                         1.26\n",
      "==============================================================================\n",
      "\n",
      "Warnings:\n",
      "[1] Standard Errors assume that the covariance matrix of the errors is correctly specified.\n"
     ]
    }
   ],
   "source": [
    "#ols\n",
    "import statsmodels.formula.api as smf\n",
    "\n",
    "x1 = x.flatten()\n",
    "#flatten(): 차원 축소\n",
    "print(x1.shape)\n",
    "print(y1.shape)\n",
    "data = np.array([x1, y1])\n",
    "df = pd.DataFrame(data.T)\n",
    "df.columns = [\"x1\", \"y1\"]\n",
    "print(df.head(3))\n",
    "model = smf.ols(formula = \"y1 ~ x1\", data = df).fit()\n",
    "print(model.summary())"
   ]
  },
  {
   "cell_type": "code",
   "execution_count": 6,
   "metadata": {},
   "outputs": [
    {
     "name": "stdout",
     "output_type": "stream",
     "text": [
      "기울기:  89.47430739278903\n",
      "절편:  99.99999999999999\n",
      "pvalue Intercept    0.0\n",
      "x1           0.0\n",
      "dtype: float64\n",
      "설명력 1.0\n"
     ]
    }
   ],
   "source": [
    "print(\"기울기: \", model.params['x1'])\n",
    "print(\"절편: \", model.params['Intercept'])\n",
    "print(\"pvalue\",model.pvalues)\n",
    "#pvalue(0) <0.05 이므로 통계적으로 유의하다.\n",
    "print(\"설명력\",model.rsquared)\n",
    "#설명력은 100%로 설명력이 높다."
   ]
  },
  {
   "cell_type": "code",
   "execution_count": 7,
   "metadata": {},
   "outputs": [
    {
     "name": "stdout",
     "output_type": "stream",
     "text": [
      "\n",
      "#1. 단순회귀분석\n",
      "   sepal_length  sepal_width  petal_length  petal_width species\n",
      "0           5.1          3.5           1.4          0.2  setosa\n",
      "1           4.9          3.0           1.4          0.2  setosa\n",
      "2           4.7          3.2           1.3          0.2  setosa\n",
      "상관계수               sepal_length  sepal_width  petal_length  petal_width\n",
      "sepal_length      1.000000    -0.117570      0.871754     0.817941\n",
      "sepal_width      -0.117570     1.000000     -0.428440    -0.366126\n",
      "petal_length      0.871754    -0.428440      1.000000     0.962865\n",
      "petal_width       0.817941    -0.366126      0.962865     1.000000\n",
      "                            OLS Regression Results                            \n",
      "==============================================================================\n",
      "Dep. Variable:           sepal_length   R-squared:                       0.014\n",
      "Model:                            OLS   Adj. R-squared:                  0.007\n",
      "Method:                 Least Squares   F-statistic:                     2.074\n",
      "Date:                Tue, 30 Jul 2019   Prob (F-statistic):              0.152\n",
      "Time:                        21:12:20   Log-Likelihood:                -183.00\n",
      "No. Observations:                 150   AIC:                             370.0\n",
      "Df Residuals:                     148   BIC:                             376.0\n",
      "Df Model:                           1                                         \n",
      "Covariance Type:            nonrobust                                         \n",
      "===============================================================================\n",
      "                  coef    std err          t      P>|t|      [0.025      0.975]\n",
      "-------------------------------------------------------------------------------\n",
      "Intercept       6.5262      0.479     13.628      0.000       5.580       7.473\n",
      "sepal_width    -0.2234      0.155     -1.440      0.152      -0.530       0.083\n",
      "==============================================================================\n",
      "Omnibus:                        4.389   Durbin-Watson:                   0.952\n",
      "Prob(Omnibus):                  0.111   Jarque-Bera (JB):                4.237\n",
      "Skew:                           0.360   Prob(JB):                        0.120\n",
      "Kurtosis:                       2.600   Cond. No.                         24.2\n",
      "==============================================================================\n",
      "\n",
      "Warnings:\n",
      "[1] Standard Errors assume that the covariance matrix of the errors is correctly specified.\n",
      "결정 계수:  0.013822654141080859\n",
      "p값:  Intercept      6.469702e-28\n",
      "sepal_width    1.518983e-01\n",
      "dtype: float64\n",
      "실제값:  5.1 예측값:  5.744458836939834\n"
     ]
    }
   ],
   "source": [
    "#Iris를 활용한 단순 회귀 분석\n",
    "#상관관계에 따른 결과 확인\n",
    "import seaborn as sns\n",
    "print(\"\\n#1. 단순회귀분석\")\n",
    "iris = sns.load_dataset(\"iris\")\n",
    "print(iris.head(3))\n",
    "print('상관계수',iris.corr())\n",
    "#sepal_length ~ sepal_width 의 상관계수 = -0.117570\n",
    "\n",
    "result = smf.ols(\"sepal_length ~ sepal_width\", data = iris).fit()\n",
    "print(result.summary())\n",
    "print(\"결정 계수: \", result.rsquared)\n",
    "#0.013822654141080859 => 설명력이 낮다.\n",
    "print(\"p값: \", result.pvalues)\n",
    "print(\"실제값: \", iris.sepal_length[0], \"예측값: \", result.predict()[0])"
   ]
  },
  {
   "cell_type": "code",
   "execution_count": 8,
   "metadata": {},
   "outputs": [
    {
     "name": "stdout",
     "output_type": "stream",
     "text": [
      "                            OLS Regression Results                            \n",
      "==============================================================================\n",
      "Dep. Variable:           sepal_length   R-squared:                       0.760\n",
      "Model:                            OLS   Adj. R-squared:                  0.758\n",
      "Method:                 Least Squares   F-statistic:                     468.6\n",
      "Date:                Tue, 30 Jul 2019   Prob (F-statistic):           1.04e-47\n",
      "Time:                        21:12:20   Log-Likelihood:                -77.020\n",
      "No. Observations:                 150   AIC:                             158.0\n",
      "Df Residuals:                     148   BIC:                             164.1\n",
      "Df Model:                           1                                         \n",
      "Covariance Type:            nonrobust                                         \n",
      "================================================================================\n",
      "                   coef    std err          t      P>|t|      [0.025      0.975]\n",
      "--------------------------------------------------------------------------------\n",
      "Intercept        4.3066      0.078     54.939      0.000       4.152       4.462\n",
      "petal_length     0.4089      0.019     21.646      0.000       0.372       0.446\n",
      "==============================================================================\n",
      "Omnibus:                        0.207   Durbin-Watson:                   1.867\n",
      "Prob(Omnibus):                  0.902   Jarque-Bera (JB):                0.346\n",
      "Skew:                           0.069   Prob(JB):                        0.841\n",
      "Kurtosis:                       2.809   Cond. No.                         10.3\n",
      "==============================================================================\n",
      "\n",
      "Warnings:\n",
      "[1] Standard Errors assume that the covariance matrix of the errors is correctly specified.\n",
      "결정 계수:  0.7599546457725151\n",
      "p값:  Intercept       2.426713e-100\n",
      "petal_length     1.038667e-47\n",
      "dtype: float64\n",
      "실제값:  5.1 예측값:  4.879094603339241\n"
     ]
    }
   ],
   "source": [
    "result2 = smf.ols(\"sepal_length ~ petal_length\", data = iris).fit()\n",
    "#sepal_length ~ petal_length 의 상관계수 = 0.871754\n",
    "print(result2.summary())\n",
    "print(\"결정 계수: \", result2.rsquared) \n",
    "#75% 이므로 충분히 설명력을 가진다.\n",
    "print(\"p값: \", result2.pvalues)\n",
    "#pvalue(2.426713e-100) < 0.05 이므로 통계적으로 유의하다.\n",
    "print(\"실제값: \", iris.sepal_length[0], \"예측값: \", result2.predict()[0])"
   ]
  },
  {
   "cell_type": "code",
   "execution_count": 9,
   "metadata": {},
   "outputs": [
    {
     "name": "stdout",
     "output_type": "stream",
     "text": [
      "\n",
      "#2. 다중회귀분석\n",
      "                            OLS Regression Results                            \n",
      "==============================================================================\n",
      "Dep. Variable:           sepal_length   R-squared:                       0.766\n",
      "Model:                            OLS   Adj. R-squared:                  0.763\n",
      "Method:                 Least Squares   F-statistic:                     241.0\n",
      "Date:                Tue, 30 Jul 2019   Prob (F-statistic):           4.00e-47\n",
      "Time:                        21:12:20   Log-Likelihood:                -75.023\n",
      "No. Observations:                 150   AIC:                             156.0\n",
      "Df Residuals:                     147   BIC:                             165.1\n",
      "Df Model:                           2                                         \n",
      "Covariance Type:            nonrobust                                         \n",
      "================================================================================\n",
      "                   coef    std err          t      P>|t|      [0.025      0.975]\n",
      "--------------------------------------------------------------------------------\n",
      "Intercept        4.1906      0.097     43.181      0.000       3.999       4.382\n",
      "petal_length     0.5418      0.069      7.820      0.000       0.405       0.679\n",
      "petal_width     -0.3196      0.160     -1.992      0.048      -0.637      -0.002\n",
      "==============================================================================\n",
      "Omnibus:                        0.383   Durbin-Watson:                   1.826\n",
      "Prob(Omnibus):                  0.826   Jarque-Bera (JB):                0.540\n",
      "Skew:                           0.060   Prob(JB):                        0.763\n",
      "Kurtosis:                       2.732   Cond. No.                         25.3\n",
      "==============================================================================\n",
      "\n",
      "Warnings:\n",
      "[1] Standard Errors assume that the covariance matrix of the errors is correctly specified.\n",
      "결정 계수:  0.7662612975425306\n",
      "p값:  Intercept       2.092645e-85\n",
      "petal_length    9.414477e-13\n",
      "petal_width     4.827246e-02\n",
      "dtype: float64\n"
     ]
    },
    {
     "data": {
      "text/plain": [
       "'\\n결정 계수:  0.7662612975425306 => 충분한 설명력을 가진다.\\np값: 2.092645e-85 < 0.05 => 통계적으로 유의하다.\\n'"
      ]
     },
     "execution_count": 9,
     "metadata": {},
     "output_type": "execute_result"
    }
   ],
   "source": [
    "#Iris를 활용한 다중 회귀 분석\n",
    "print(\"\\n#2. 다중회귀분석\")\n",
    "# 다중회귀분석 formula = \"y ~ x1 + x2 + ...\"\n",
    "result3 = smf.ols(formula = \"sepal_length ~ petal_length + petal_width\", data = iris).fit()\n",
    "print(result3.summary())\n",
    "print(\"결정 계수: \", result3.rsquared)\n",
    "print(\"p값: \", result3.pvalues)\n",
    "'''\n",
    "결정 계수:  0.7662612975425306 => 충분한 설명력을 가진다.\n",
    "p값: 2.092645e-85 < 0.05 => 통계적으로 유의하다.\n",
    "'''"
   ]
  },
  {
   "cell_type": "code",
   "execution_count": 10,
   "metadata": {},
   "outputs": [
    {
     "name": "stdout",
     "output_type": "stream",
     "text": [
      "petal_length+petal_width\n",
      "                            OLS Regression Results                            \n",
      "==============================================================================\n",
      "Dep. Variable:           sepal_length   R-squared:                       0.766\n",
      "Model:                            OLS   Adj. R-squared:                  0.763\n",
      "Method:                 Least Squares   F-statistic:                     241.0\n",
      "Date:                Tue, 30 Jul 2019   Prob (F-statistic):           4.00e-47\n",
      "Time:                        21:12:20   Log-Likelihood:                -75.023\n",
      "No. Observations:                 150   AIC:                             156.0\n",
      "Df Residuals:                     147   BIC:                             165.1\n",
      "Df Model:                           2                                         \n",
      "Covariance Type:            nonrobust                                         \n",
      "================================================================================\n",
      "                   coef    std err          t      P>|t|      [0.025      0.975]\n",
      "--------------------------------------------------------------------------------\n",
      "Intercept        4.1906      0.097     43.181      0.000       3.999       4.382\n",
      "petal_length     0.5418      0.069      7.820      0.000       0.405       0.679\n",
      "petal_width     -0.3196      0.160     -1.992      0.048      -0.637      -0.002\n",
      "==============================================================================\n",
      "Omnibus:                        0.383   Durbin-Watson:                   1.826\n",
      "Prob(Omnibus):                  0.826   Jarque-Bera (JB):                0.540\n",
      "Skew:                           0.060   Prob(JB):                        0.763\n",
      "Kurtosis:                       2.732   Cond. No.                         25.3\n",
      "==============================================================================\n",
      "\n",
      "Warnings:\n",
      "[1] Standard Errors assume that the covariance matrix of the errors is correctly specified.\n",
      "결정 계수:  0.7662612975425306\n",
      "p값:  Intercept       2.092645e-85\n",
      "petal_length    9.414477e-13\n",
      "petal_width     4.827246e-02\n",
      "dtype: float64\n"
     ]
    },
    {
     "data": {
      "text/plain": [
       "'\\n결정 계수:  0.7662612975425306 => 충분한 설명력을 가진다.\\np값: 2.092645e-85 < 0.05 => 통계적으로 유의하다.\\n'"
      ]
     },
     "execution_count": 10,
     "metadata": {},
     "output_type": "execute_result"
    }
   ],
   "source": [
    "\n",
    "column_selected = \"+\".join(iris.columns.difference([\"sepal_length\", \"sepal_width\", \"species\"]))\n",
    "print(column_selected)\n",
    "result4 = smf.ols(formula = \"sepal_length ~ \" + column_selected, data = iris).fit()\n",
    "print(result4.summary())\n",
    "print(\"결정 계수: \", result4.rsquared)\n",
    "print(\"p값: \", result4.pvalues)\n",
    "'''\n",
    "결정 계수:  0.7662612975425306 => 충분한 설명력을 가진다.\n",
    "p값: 2.092645e-85 < 0.05 => 통계적으로 유의하다.\n",
    "'''"
   ]
  },
  {
   "cell_type": "code",
   "execution_count": 11,
   "metadata": {},
   "outputs": [
    {
     "name": "stdout",
     "output_type": "stream",
     "text": [
      "     sid  score   iq  academy  game  tv\n",
      "0  10001     90  140        2     1   0\n",
      "1  10002     75  125        1     3   3\n",
      "2  10003     77  120        1     0   4\n",
      "\n",
      " score_iq.corr(): \n",
      "               sid     score        iq   academy      game        tv\n",
      "sid      1.000000 -0.014399 -0.007048 -0.004398  0.018806  0.024565\n",
      "score   -0.014399  1.000000  0.882220  0.896265 -0.298193 -0.819752\n",
      "iq      -0.007048  0.882220  1.000000  0.671783 -0.031516 -0.585033\n",
      "academy -0.004398  0.896265  0.671783  1.000000 -0.351315 -0.948551\n",
      "game     0.018806 -0.298193 -0.031516 -0.351315  1.000000  0.239217\n",
      "tv       0.024565 -0.819752 -0.585033 -0.948551  0.239217  1.000000\n",
      "\n",
      " model:  LinregressResult(slope=0.6514309527270075, intercept=-2.8564471221974657, rvalue=0.8822203446134699, pvalue=2.8476895206683644e-50, stderr=0.028577934409305443)\n",
      "기울기:  0.6514309527270075\n",
      "절편:  -2.8564471221974657\n",
      "상관계수:  0.8822203446134699\n",
      "p값:  2.8476895206683644e-50\n",
      "표준오차:  0.028577934409305443\n",
      "예측 된 y값:  88.34388625958358\n"
     ]
    }
   ],
   "source": [
    "#scipy.stats.linregress\n",
    "from scipy import stats\n",
    "\n",
    "score_iq = pd.read_csv(\"https://raw.githubusercontent.com/wjddyd66/R/master/Data/score_iq.csv\")\n",
    "print(score_iq.head(3))\n",
    "\n",
    "print(\"\\n score_iq.corr(): \\n\", score_iq.corr())\n",
    "x = score_iq.iq\n",
    "y = score_iq.score\n",
    "\n",
    "model = stats.linregress(x, y)\n",
    "print(\"\\n model: \", model)\n",
    "print(\"기울기: \", model.slope) #0.6514309527270075\n",
    "print(\"절편: \", model.intercept) #-2.8564471221974657\n",
    "print(\"상관계수: \", model.rvalue) #0.8822203446134699\n",
    "print(\"p값: \", model.pvalue) #2.8476895206683644e-50\n",
    "print(\"표준오차: \", model.stderr) #0.028577934409305443\n",
    "'''\n",
    "상관계수:  0.8822203446134699 => 매우 높은 양의 상관관계를 가지고 있다.\n",
    "p값:  2.8476895206683644e-50 < 0.05 => 통계적으로 유의하다.\n",
    "'''\n",
    "iq = 140\n",
    "y_pred = model.slope * iq + model.intercept\n",
    "print(\"예측 된 y값: \", y_pred) #88.34388625958358"
   ]
  },
  {
   "cell_type": "code",
   "execution_count": 12,
   "metadata": {},
   "outputs": [
    {
     "data": {
      "image/png": "[encoded data removed]",
      "text/plain": [
       "<Figure size 432x288 with 1 Axes>"
      ]
     },
     "metadata": {
      "needs_background": "light"
     },
     "output_type": "display_data"
    }
   ],
   "source": [
    "#결과 시각화하여 살펴보기\n",
    "plt.scatter(x, y)\n",
    "plt.xlim([100,150])\n",
    "plt.ylim([60,100])\n",
    "plt.plot(x,0.6514309527270075*x-2.8564471221974657,'r')\n",
    "plt.legend([\"regression line\", \"x y scatter\"])\n",
    "plt.show()"
   ]
  },
  {
   "cell_type": "code",
   "execution_count": 13,
   "metadata": {},
   "outputs": [
    {
     "name": "stdout",
     "output_type": "stream",
     "text": [
      "\n",
      " <모집단 자료 이용하기>\n",
      "   a  b  c\n",
      "0  3  4  3\n",
      "1  3  3  2\n",
      "          a         b         c\n",
      "a  1.000000  0.499209  0.467145\n",
      "b  0.499209  1.000000  0.766853\n",
      "c  0.467145  0.766853  1.000000\n",
      "model:  LinregressResult(slope=0.7392761785971821, intercept=0.7788583344701907, rvalue=0.766852699640837, pvalue=2.235344857549548e-52, stderr=0.03822605528717565)\n",
      "기울기:  0.7392761785971821\n",
      "절편:  0.7788583344701907\n",
      "상관계수:  0.766852699640837\n",
      "p값:  2.235344857549548e-52\n",
      "표준오차:  0.03822605528717565\n"
     ]
    },
    {
     "data": {
      "text/plain": [
       "'\\n상관계수:  0.766852699640837 => 매우 높은 양의 상관관계를 가지고 있다.\\np값:  0.235344857549548e-52 < 0.05 => 통계적으로 유의하다.\\n'"
      ]
     },
     "execution_count": 13,
     "metadata": {},
     "output_type": "execute_result"
    }
   ],
   "source": [
    "#모집단 자료(전체) 이용하기\n",
    "print(\"\\n <모집단 자료 이용하기>\")\n",
    "product = pd.read_csv(\"https://raw.githubusercontent.com/wjddyd66/R/master/Data/product.csv\")\n",
    "print(product.head(2))\n",
    "print(product.corr())\n",
    "model2 = stats.linregress(product[\"b\"], product[\"c\"])\n",
    "\n",
    "print(\"model: \", model2)\n",
    "print(\"기울기: \", model2.slope)\n",
    "print(\"절편: \", model2.intercept)\n",
    "print(\"상관계수: \", model2.rvalue)\n",
    "print(\"p값: \", model2.pvalue)\n",
    "print(\"표준오차: \", model2.stderr)\n",
    "'''\n",
    "상관계수:  0.766852699640837 => 매우 높은 양의 상관관계를 가지고 있다.\n",
    "p값:  0.235344857549548e-52 < 0.05 => 통계적으로 유의하다.\n",
    "'''"
   ]
  },
  {
   "cell_type": "code",
   "execution_count": 14,
   "metadata": {},
   "outputs": [
    {
     "data": {
      "image/png": "[encoded data removed]",
      "text/plain": [
       "<Figure size 432x288 with 1 Axes>"
      ]
     },
     "metadata": {
      "needs_background": "light"
     },
     "output_type": "display_data"
    }
   ],
   "source": [
    "#결과 시각화하여 살펴보기\n",
    "plt.scatter(product[\"b\"], product[\"c\"])\n",
    "plt.xlim([0,8])\n",
    "plt.ylim([0,7])\n",
    "plt.plot(product[\"b\"],0.7788583344701907*product[\"b\"]+0.7788583344701907,'r')\n",
    "plt.legend([\"regression line\", \"x y scatter\"])\n",
    "plt.show()"
   ]
  },
  {
   "cell_type": "code",
   "execution_count": 15,
   "metadata": {},
   "outputs": [
    {
     "name": "stdout",
     "output_type": "stream",
     "text": [
      "\n",
      " <샘플링 자료 이용하기>\n",
      "150\n",
      "     a  b  c\n",
      "77   1  1  1\n",
      "148  3  3  3\n",
      "234  3  3  3\n",
      "159  3  4  4\n",
      "172  2  2  3\n",
      "model:  LinregressResult(slope=0.7257880124122156, intercept=0.7924220153519537, rvalue=0.7953597521219435, pvalue=5.424928391628453e-34, stderr=0.045465983691246346)\n",
      "기울기:  0.7257880124122156\n",
      "절편:  0.7924220153519537\n",
      "상관계수:  0.7953597521219435\n",
      "p값:  5.424928391628453e-34\n",
      "표준오차:  0.045465983691246346\n"
     ]
    },
    {
     "data": {
      "text/plain": [
       "'\\n상관계수:  0.7953597521219435 => 매우 높은 양의 상관관계를 가지고 있다.\\np값:  5.424928391628453e-34 < 0.05 => 통계적으로 유의하다.\\n'"
      ]
     },
     "execution_count": 15,
     "metadata": {},
     "output_type": "execute_result"
    }
   ],
   "source": [
    "#샘플링 자료 이용하기\n",
    "print(\"\\n <샘플링 자료 이용하기>\")\n",
    "idx = np.random.randint(1, len(product), 150)\n",
    "print(len(idx))\n",
    "dataset = product.loc[idx]\n",
    "print(dataset[:5])\n",
    "model3 = stats.linregress(dataset[\"b\"], dataset[\"c\"])\n",
    "print(\"model: \", model3)\n",
    "print(\"기울기: \", model3.slope)\n",
    "print(\"절편: \", model3.intercept)\n",
    "print(\"상관계수: \", model3.rvalue)\n",
    "print(\"p값: \", model3.pvalue)\n",
    "print(\"표준오차: \", model3.stderr)\n",
    "'''\n",
    "상관계수:  0.7953597521219435 => 매우 높은 양의 상관관계를 가지고 있다.\n",
    "p값:  5.424928391628453e-34 < 0.05 => 통계적으로 유의하다.\n",
    "'''"
   ]
  },
  {
   "cell_type": "code",
   "execution_count": 16,
   "metadata": {},
   "outputs": [
    {
     "data": {
      "image/png": "[encoded data removed]",
      "text/plain": [
       "<Figure size 432x288 with 1 Axes>"
      ]
     },
     "metadata": {
      "needs_background": "light"
     },
     "output_type": "display_data"
    }
   ],
   "source": [
    "#결과 시각화하여 살펴보기\n",
    "plt.scatter(product[\"b\"], product[\"c\"])\n",
    "plt.xlim([0,8])\n",
    "plt.ylim([0,7])\n",
    "plt.plot(product[\"b\"],0.7257880124122156*product[\"b\"]+0.7924220153519537,'r')\n",
    "plt.legend([\"regression line\", \"x y scatter\"])\n",
    "plt.show()"
   ]
  },
  {
   "cell_type": "code",
   "execution_count": null,
   "metadata": {},
   "outputs": [],
   "source": []
  }
 ],
 "metadata": {
  "kernelspec": {
   "display_name": "Python 3",
   "language": "python",
   "name": "python3"
  },
  "language_info": {
   "codemirror_mode": {
    "name": "ipython",
    "version": 3
   },
   "file_extension": ".py",
   "mimetype": "text/x-python",
   "name": "python",
   "nbconvert_exporter": "python",
   "pygments_lexer": "ipython3",
   "version": "3.7.3"
  }
 },
 "nbformat": 4,
 "nbformat_minor": 2
}
